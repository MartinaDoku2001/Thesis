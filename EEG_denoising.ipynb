{
 "cells": [
  {
   "attachments": {},
   "cell_type": "markdown",
   "metadata": {},
   "source": [
    "<h1 style=\"text-align:center; font-size:180%; color:red;\"> <b> MACHINE LEARNING TECHNIQUES FOR EEG DENOISING </b> </h1>\n",
    "<div id=\"author\"; style=\"text-align:center; font-size:150%;\" > <b> Martina Doku </b> </div>\n",
    "<div id=\"project\"; style=\"text-align:center; font-size:100%;\" > <b>  Bachelor Thesis in Applied Computer Science And Artificial Intelligence </b> </div>\n",
    "<div id=\"year\"; style=\"text-align:center; font-size:100%;\" > <b>  2023 </b> </div>\n",
    "<div id=\"university\"; style=\"text-align:center; font-size:100%;\" > <b>  University of Rome \"La Sapienza\"</b> </div>\n",
    "<div id=\"supervisor\"; style=\"text-align:center; font-size:100%;\" > <b>  Prof. Danilo Avola </b> </div>\n",
    "\n"
   ]
  },
  {
   "attachments": {},
   "cell_type": "markdown",
   "metadata": {},
   "source": [
    "<h2 style=\" font-size:150%; color:blue;\"> <b> 1. Introduction </b> </h2>\n",
    "<div id=\"abstract\"> This notebook shows some Neural Network architectures for EEG artfact removal applied on the EEGdenoiseNet dataset</div>"
   ]
  },
  {
   "cell_type": "code",
   "execution_count": 6,
   "metadata": {},
   "outputs": [
    {
     "ename": "ImportError",
     "evalue": "cannot import name 'CustomObjectScope' from 'keras.utils.generic_utils' (c:\\Users\\user\\anaconda3\\lib\\site-packages\\keras\\utils\\generic_utils.py)",
     "output_type": "error",
     "traceback": [
      "\u001b[1;31m---------------------------------------------------------------------------\u001b[0m",
      "\u001b[1;31mImportError\u001b[0m                               Traceback (most recent call last)",
      "\u001b[1;32mc:\\Users\\user\\Desktop\\Thesis\\EEG_denoising.ipynb Cell 3\u001b[0m in \u001b[0;36m<cell line: 9>\u001b[1;34m()\u001b[0m\n\u001b[0;32m      <a href='vscode-notebook-cell:/c%3A/Users/user/Desktop/Thesis/EEG_denoising.ipynb#W2sZmlsZQ%3D%3D?line=6'>7</a>\u001b[0m \u001b[39mimport\u001b[39;00m \u001b[39mtensorflow\u001b[39;00m \u001b[39mas\u001b[39;00m \u001b[39mtf\u001b[39;00m\n\u001b[0;32m      <a href='vscode-notebook-cell:/c%3A/Users/user/Desktop/Thesis/EEG_denoising.ipynb#W2sZmlsZQ%3D%3D?line=7'>8</a>\u001b[0m \u001b[39mfrom\u001b[39;00m \u001b[39mtensorflow\u001b[39;00m \u001b[39mimport\u001b[39;00m keras\n\u001b[1;32m----> <a href='vscode-notebook-cell:/c%3A/Users/user/Desktop/Thesis/EEG_denoising.ipynb#W2sZmlsZQ%3D%3D?line=8'>9</a>\u001b[0m \u001b[39mfrom\u001b[39;00m \u001b[39mtensorflow\u001b[39;00m\u001b[39m.\u001b[39;00m\u001b[39mkeras\u001b[39;00m \u001b[39mimport\u001b[39;00m layers\n\u001b[0;32m     <a href='vscode-notebook-cell:/c%3A/Users/user/Desktop/Thesis/EEG_denoising.ipynb#W2sZmlsZQ%3D%3D?line=9'>10</a>\u001b[0m \u001b[39mimport\u001b[39;00m \u001b[39mscipy\u001b[39;00m\u001b[39m.\u001b[39;00m\u001b[39msignal\u001b[39;00m \u001b[39mas\u001b[39;00m \u001b[39msignal\u001b[39;00m\n\u001b[0;32m     <a href='vscode-notebook-cell:/c%3A/Users/user/Desktop/Thesis/EEG_denoising.ipynb#W2sZmlsZQ%3D%3D?line=10'>11</a>\u001b[0m \u001b[39mfrom\u001b[39;00m \u001b[39mscipy\u001b[39;00m\u001b[39m.\u001b[39;00m\u001b[39mlinalg\u001b[39;00m \u001b[39mimport\u001b[39;00m lstsq\n",
      "File \u001b[1;32mc:\\Users\\user\\anaconda3\\lib\\site-packages\\keras\\api\\_v2\\keras\\__init__.py:12\u001b[0m, in \u001b[0;36m<module>\u001b[1;34m\u001b[0m\n\u001b[0;32m      3\u001b[0m \u001b[39m\"\"\"Implementation of the Keras API, the high-level API of TensorFlow.\u001b[39;00m\n\u001b[0;32m      4\u001b[0m \n\u001b[0;32m      5\u001b[0m \u001b[39mDetailed documentation and user guides are available at\u001b[39;00m\n\u001b[0;32m      6\u001b[0m \u001b[39m[keras.io](https://keras.io).\u001b[39;00m\n\u001b[0;32m      7\u001b[0m \n\u001b[0;32m      8\u001b[0m \u001b[39m\"\"\"\u001b[39;00m\n\u001b[0;32m     10\u001b[0m \u001b[39mimport\u001b[39;00m \u001b[39msys\u001b[39;00m \u001b[39mas\u001b[39;00m \u001b[39m_sys\u001b[39;00m\n\u001b[1;32m---> 12\u001b[0m \u001b[39mfrom\u001b[39;00m \u001b[39mkeras\u001b[39;00m \u001b[39mimport\u001b[39;00m __version__\n\u001b[0;32m     13\u001b[0m \u001b[39mfrom\u001b[39;00m \u001b[39mkeras\u001b[39;00m\u001b[39m.\u001b[39;00m\u001b[39mapi\u001b[39;00m\u001b[39m.\u001b[39;00m\u001b[39m_v2\u001b[39;00m\u001b[39m.\u001b[39;00m\u001b[39mkeras\u001b[39;00m \u001b[39mimport\u001b[39;00m __internal__\n\u001b[0;32m     14\u001b[0m \u001b[39mfrom\u001b[39;00m \u001b[39mkeras\u001b[39;00m\u001b[39m.\u001b[39;00m\u001b[39mapi\u001b[39;00m\u001b[39m.\u001b[39;00m\u001b[39m_v2\u001b[39;00m\u001b[39m.\u001b[39;00m\u001b[39mkeras\u001b[39;00m \u001b[39mimport\u001b[39;00m activations\n",
      "File \u001b[1;32m~\\AppData\\Roaming\\Python\\Python39\\site-packages\\keras\\__init__.py:21\u001b[0m, in \u001b[0;36m<module>\u001b[1;34m\u001b[0m\n\u001b[0;32m     15\u001b[0m \u001b[39m\"\"\"Implementation of the Keras API, the high-level API of TensorFlow.\u001b[39;00m\n\u001b[0;32m     16\u001b[0m \n\u001b[0;32m     17\u001b[0m \u001b[39mDetailed documentation and user guides are available at\u001b[39;00m\n\u001b[0;32m     18\u001b[0m \u001b[39m[keras.io](https://keras.io).\u001b[39;00m\n\u001b[0;32m     19\u001b[0m \u001b[39m\"\"\"\u001b[39;00m\n\u001b[0;32m     20\u001b[0m \u001b[39mfrom\u001b[39;00m \u001b[39mkeras\u001b[39;00m \u001b[39mimport\u001b[39;00m distribute\n\u001b[1;32m---> 21\u001b[0m \u001b[39mfrom\u001b[39;00m \u001b[39mkeras\u001b[39;00m \u001b[39mimport\u001b[39;00m models\n\u001b[0;32m     22\u001b[0m \u001b[39mfrom\u001b[39;00m \u001b[39mkeras\u001b[39;00m\u001b[39m.\u001b[39;00m\u001b[39mengine\u001b[39;00m\u001b[39m.\u001b[39;00m\u001b[39minput_layer\u001b[39;00m \u001b[39mimport\u001b[39;00m Input\n\u001b[0;32m     23\u001b[0m \u001b[39mfrom\u001b[39;00m \u001b[39mkeras\u001b[39;00m\u001b[39m.\u001b[39;00m\u001b[39mengine\u001b[39;00m\u001b[39m.\u001b[39;00m\u001b[39msequential\u001b[39;00m \u001b[39mimport\u001b[39;00m Sequential\n",
      "File \u001b[1;32m~\\AppData\\Roaming\\Python\\Python39\\site-packages\\keras\\models\\__init__.py:18\u001b[0m, in \u001b[0;36m<module>\u001b[1;34m\u001b[0m\n\u001b[0;32m      1\u001b[0m \u001b[39m# Copyright 2022 The TensorFlow Authors. All Rights Reserved.\u001b[39;00m\n\u001b[0;32m      2\u001b[0m \u001b[39m#\u001b[39;00m\n\u001b[0;32m      3\u001b[0m \u001b[39m# Licensed under the Apache License, Version 2.0 (the \"License\");\u001b[39;00m\n\u001b[1;32m   (...)\u001b[0m\n\u001b[0;32m     13\u001b[0m \u001b[39m# limitations under the License.\u001b[39;00m\n\u001b[0;32m     14\u001b[0m \u001b[39m# ==============================================================================\u001b[39;00m\n\u001b[0;32m     15\u001b[0m \u001b[39m\"\"\"Keras models API.\"\"\"\u001b[39;00m\n\u001b[1;32m---> 18\u001b[0m \u001b[39mfrom\u001b[39;00m \u001b[39mkeras\u001b[39;00m\u001b[39m.\u001b[39;00m\u001b[39mengine\u001b[39;00m\u001b[39m.\u001b[39;00m\u001b[39mfunctional\u001b[39;00m \u001b[39mimport\u001b[39;00m Functional\n\u001b[0;32m     19\u001b[0m \u001b[39mfrom\u001b[39;00m \u001b[39mkeras\u001b[39;00m\u001b[39m.\u001b[39;00m\u001b[39mengine\u001b[39;00m\u001b[39m.\u001b[39;00m\u001b[39msequential\u001b[39;00m \u001b[39mimport\u001b[39;00m Sequential\n\u001b[0;32m     20\u001b[0m \u001b[39mfrom\u001b[39;00m \u001b[39mkeras\u001b[39;00m\u001b[39m.\u001b[39;00m\u001b[39mengine\u001b[39;00m\u001b[39m.\u001b[39;00m\u001b[39mtraining\u001b[39;00m \u001b[39mimport\u001b[39;00m Model\n",
      "File \u001b[1;32mc:\\Users\\user\\anaconda3\\lib\\site-packages\\keras\\engine\\functional.py:26\u001b[0m, in \u001b[0;36m<module>\u001b[1;34m\u001b[0m\n\u001b[0;32m     22\u001b[0m \u001b[39mimport\u001b[39;00m \u001b[39mwarnings\u001b[39;00m\n\u001b[0;32m     24\u001b[0m \u001b[39mimport\u001b[39;00m \u001b[39mtensorflow\u001b[39;00m\u001b[39m.\u001b[39;00m\u001b[39mcompat\u001b[39;00m\u001b[39m.\u001b[39;00m\u001b[39mv2\u001b[39;00m \u001b[39mas\u001b[39;00m \u001b[39mtf\u001b[39;00m\n\u001b[1;32m---> 26\u001b[0m \u001b[39mfrom\u001b[39;00m \u001b[39mkeras\u001b[39;00m \u001b[39mimport\u001b[39;00m backend\n\u001b[0;32m     27\u001b[0m \u001b[39mfrom\u001b[39;00m \u001b[39mkeras\u001b[39;00m\u001b[39m.\u001b[39;00m\u001b[39mdtensor\u001b[39;00m \u001b[39mimport\u001b[39;00m layout_map \u001b[39mas\u001b[39;00m layout_map_lib\n\u001b[0;32m     28\u001b[0m \u001b[39mfrom\u001b[39;00m \u001b[39mkeras\u001b[39;00m\u001b[39m.\u001b[39;00m\u001b[39mengine\u001b[39;00m \u001b[39mimport\u001b[39;00m base_layer\n",
      "File \u001b[1;32m~\\AppData\\Roaming\\Python\\Python39\\site-packages\\keras\\backend.py:34\u001b[0m, in \u001b[0;36m<module>\u001b[1;34m\u001b[0m\n\u001b[0;32m     32\u001b[0m \u001b[39mfrom\u001b[39;00m \u001b[39mkeras\u001b[39;00m \u001b[39mimport\u001b[39;00m backend_config\n\u001b[0;32m     33\u001b[0m \u001b[39mfrom\u001b[39;00m \u001b[39mkeras\u001b[39;00m\u001b[39m.\u001b[39;00m\u001b[39mdistribute\u001b[39;00m \u001b[39mimport\u001b[39;00m distribute_coordinator_utils \u001b[39mas\u001b[39;00m dc\n\u001b[1;32m---> 34\u001b[0m \u001b[39mfrom\u001b[39;00m \u001b[39mkeras\u001b[39;00m\u001b[39m.\u001b[39;00m\u001b[39mengine\u001b[39;00m \u001b[39mimport\u001b[39;00m keras_tensor\n\u001b[0;32m     35\u001b[0m \u001b[39mfrom\u001b[39;00m \u001b[39mkeras\u001b[39;00m\u001b[39m.\u001b[39;00m\u001b[39mutils\u001b[39;00m \u001b[39mimport\u001b[39;00m control_flow_util\n\u001b[0;32m     36\u001b[0m \u001b[39mfrom\u001b[39;00m \u001b[39mkeras\u001b[39;00m\u001b[39m.\u001b[39;00m\u001b[39mutils\u001b[39;00m \u001b[39mimport\u001b[39;00m object_identity\n",
      "File \u001b[1;32mc:\\Users\\user\\anaconda3\\lib\\site-packages\\keras\\engine\\keras_tensor.py:19\u001b[0m, in \u001b[0;36m<module>\u001b[1;34m\u001b[0m\n\u001b[0;32m     15\u001b[0m \u001b[39m\"\"\"Keras Input Tensor used to track functional API Topology.\"\"\"\u001b[39;00m\n\u001b[0;32m     17\u001b[0m \u001b[39mimport\u001b[39;00m \u001b[39mtensorflow\u001b[39;00m\u001b[39m.\u001b[39;00m\u001b[39mcompat\u001b[39;00m\u001b[39m.\u001b[39;00m\u001b[39mv2\u001b[39;00m \u001b[39mas\u001b[39;00m \u001b[39mtf\u001b[39;00m\n\u001b[1;32m---> 19\u001b[0m \u001b[39mfrom\u001b[39;00m \u001b[39mkeras\u001b[39;00m\u001b[39m.\u001b[39;00m\u001b[39mutils\u001b[39;00m \u001b[39mimport\u001b[39;00m object_identity\n\u001b[0;32m     21\u001b[0m \u001b[39m# isort: off\u001b[39;00m\n\u001b[0;32m     22\u001b[0m \u001b[39mfrom\u001b[39;00m \u001b[39mtensorflow\u001b[39;00m\u001b[39m.\u001b[39;00m\u001b[39mpython\u001b[39;00m\u001b[39m.\u001b[39;00m\u001b[39mdata\u001b[39;00m\u001b[39m.\u001b[39;00m\u001b[39mutil\u001b[39;00m \u001b[39mimport\u001b[39;00m structure\n",
      "File \u001b[1;32m~\\AppData\\Roaming\\Python\\Python39\\site-packages\\keras\\utils\\__init__.py:31\u001b[0m, in \u001b[0;36m<module>\u001b[1;34m\u001b[0m\n\u001b[0;32m     28\u001b[0m \u001b[39mfrom\u001b[39;00m \u001b[39mkeras\u001b[39;00m\u001b[39m.\u001b[39;00m\u001b[39mutils\u001b[39;00m\u001b[39m.\u001b[39;00m\u001b[39mdataset_utils\u001b[39;00m \u001b[39mimport\u001b[39;00m split_dataset\n\u001b[0;32m     30\u001b[0m \u001b[39m# Serialization related\u001b[39;00m\n\u001b[1;32m---> 31\u001b[0m \u001b[39mfrom\u001b[39;00m \u001b[39mkeras\u001b[39;00m\u001b[39m.\u001b[39;00m\u001b[39mutils\u001b[39;00m\u001b[39m.\u001b[39;00m\u001b[39mgeneric_utils\u001b[39;00m \u001b[39mimport\u001b[39;00m CustomObjectScope\n\u001b[0;32m     32\u001b[0m \u001b[39mfrom\u001b[39;00m \u001b[39mkeras\u001b[39;00m\u001b[39m.\u001b[39;00m\u001b[39mutils\u001b[39;00m\u001b[39m.\u001b[39;00m\u001b[39mgeneric_utils\u001b[39;00m \u001b[39mimport\u001b[39;00m Progbar\n\u001b[0;32m     33\u001b[0m \u001b[39mfrom\u001b[39;00m \u001b[39mkeras\u001b[39;00m\u001b[39m.\u001b[39;00m\u001b[39mutils\u001b[39;00m\u001b[39m.\u001b[39;00m\u001b[39mgeneric_utils\u001b[39;00m \u001b[39mimport\u001b[39;00m custom_object_scope\n",
      "\u001b[1;31mImportError\u001b[0m: cannot import name 'CustomObjectScope' from 'keras.utils.generic_utils' (c:\\Users\\user\\anaconda3\\lib\\site-packages\\keras\\utils\\generic_utils.py)"
     ]
    }
   ],
   "source": [
    "#LIBRARIES:\n",
    "import numpy as np\n",
    "import pandas as pd\n",
    "import matplotlib.pyplot as plt\n",
    "import scipy as sp\n",
    "import pywt\n",
    "import tensorflow as tf\n",
    "from tensorflow import keras\n",
    "from tensorflow.keras import layers\n",
    "import scipy.signal as signal\n",
    "from scipy.linalg import lstsq\n",
    "import time\n",
    "import datetime\n",
    "import os\n",
    "from tqdm import tqdm\n",
    "\n",
    "import math\n"
   ]
  },
  {
   "cell_type": "code",
   "execution_count": null,
   "metadata": {},
   "outputs": [
    {
     "name": "stdout",
     "output_type": "stream",
     "text": [
      "numpy version:  1.22.4\n",
      "scipy version:  1.7.3\n"
     ]
    }
   ],
   "source": [
    "#print libraries versions\n",
    "print('numpy version: ', np.__version__)\n",
    "print('scipy version: ', sp.__version__)\n",
    "#print('tensorflow version: ', tf.__version__)"
   ]
  },
  {
   "attachments": {},
   "cell_type": "markdown",
   "metadata": {},
   "source": [
    "<h2 style=\" font-size:150%; color:blue;\"> <b> 2. Dataset </b> </h2>\n",
    "<div> First of all, let's introduce the dataset I am using, that is the EEGdenoiseNET, a dataset that contains pure EEG, EOG and EMG data. \n",
    "The dataset contains <b>4514 clean EEG segments</b> as ground truth, and <b>3400 pure electrooculography (EOG) segments</b> and <b>5598 pure electromyography (EMG) segments</b> as ocular artifacts and myogenic artifacts respectively. </div>\n",
    "\n",
    "<h3 style=\" font-size:100%; color:blue;\"> <b> 2.1. Processing </b> </h3>\n",
    "<div> The data was band-pass filtered between 1 and 80 Hz, notched at powerline frequency, and then re-sampled to 256 Hz. To obtain the clean EEG as ground truth, the 64-channel EEG signals were processed by ICLabel, a toolbox to remove EEG artifacts with independent component composition (ICA). For EOG and EMG the data preprocessing includes filtering, ICA-based artifacts removal, resampling, standardization, and visual checked by an expert. </div>\n",
    "\n",
    "\n",
    "<h3 style=\" font-size:100%; color:blue;\"> <b> 2.2. Data structure </b> </h3>\n",
    "<div> The dataset is composed by 3 files: </div>\n",
    "<ul>\n",
    "    <li> <b>EEG</b>: contains the clean EEG signals, 4154 epochs of 2 seconds at 256hz </li>\n",
    "    <li> <b>EOG</b>: contains the EOG signals, 3400 epochs of 2 seconds at 256hz</li>\n",
    "    <li> <b>EMG</b>: contains the EMG signals, 5598 epochs of 2 seconds at 256hz </li>\n",
    "</ul>\n",
    "<div> \n",
    "\n",
    "<h3 style=\" font-size:100%; color:blue;\"> <b> 2.3. Data use </b> </h3>\n",
    "<div>\n",
    "This dataset was created as a benchmark for Deep Larning models, and it will be used in this project to:\n",
    "<ol>\n",
    "    <li> create samples of raw data </li>\n",
    "    <li> perform denoising with different architectures </li>\n",
    "    <li> test and validate our architectures </li>\n",
    "</ol>\n",
    "</div>\n"
   ]
  },
  {
   "cell_type": "code",
   "execution_count": null,
   "metadata": {},
   "outputs": [],
   "source": [
    "#data path\n",
    "data_path = 'data/'"
   ]
  },
  {
   "cell_type": "code",
   "execution_count": null,
   "metadata": {},
   "outputs": [
    {
     "ename": "NameError",
     "evalue": "name 'os' is not defined",
     "output_type": "error",
     "traceback": [
      "\u001b[1;31m---------------------------------------------------------------------------\u001b[0m",
      "\u001b[1;31mNameError\u001b[0m                                 Traceback (most recent call last)",
      "\u001b[1;32mc:\\Users\\user\\Desktop\\Thesis\\EEG_denoising.ipynb Cell 7\u001b[0m in \u001b[0;36m<cell line: 2>\u001b[1;34m()\u001b[0m\n\u001b[0;32m      <a href='vscode-notebook-cell:/c%3A/Users/user/Desktop/Thesis/EEG_denoising.ipynb#W6sZmlsZQ%3D%3D?line=0'>1</a>\u001b[0m \u001b[39m#PLOTTING 5 EEG PURE DATA\u001b[39;00m\n\u001b[1;32m----> <a href='vscode-notebook-cell:/c%3A/Users/user/Desktop/Thesis/EEG_denoising.ipynb#W6sZmlsZQ%3D%3D?line=1'>2</a>\u001b[0m pure_EEG\u001b[39m=\u001b[39mnp\u001b[39m.\u001b[39mload(os\u001b[39m.\u001b[39mpath\u001b[39m.\u001b[39mjoin(data_path,\u001b[39m'\u001b[39m\u001b[39mEEG_all_epochs.npy\u001b[39m\u001b[39m'\u001b[39m)) \u001b[39m#load EEG pure data\u001b[39;00m\n\u001b[0;32m      <a href='vscode-notebook-cell:/c%3A/Users/user/Desktop/Thesis/EEG_denoising.ipynb#W6sZmlsZQ%3D%3D?line=2'>3</a>\u001b[0m \u001b[39m#print(pure_EEG.shape)\u001b[39;00m\n\u001b[0;32m      <a href='vscode-notebook-cell:/c%3A/Users/user/Desktop/Thesis/EEG_denoising.ipynb#W6sZmlsZQ%3D%3D?line=3'>4</a>\u001b[0m \u001b[39mfor\u001b[39;00m i \u001b[39min\u001b[39;00m pure_EEG[\u001b[39m0\u001b[39m:\u001b[39m5\u001b[39m]:\n",
      "\u001b[1;31mNameError\u001b[0m: name 'os' is not defined"
     ]
    }
   ],
   "source": [
    "#PLOTTING 5 EEG PURE DATA\n",
    "pure_EEG=np.load(os.path.join(data_path,'EEG_all_epochs.npy')) #load EEG pure data\n",
    "#print(pure_EEG.shape)\n",
    "for i in pure_EEG[0:5]:\n",
    "    plt.plot(range(len(i)),i)   #plotting 5 EEG pure data for all their length"
   ]
  },
  {
   "cell_type": "code",
   "execution_count": null,
   "metadata": {},
   "outputs": [
    {
     "data": {
      "image/png": "[encoded data removed]",
      "text/plain": [
       "<Figure size 432x288 with 1 Axes>"
      ]
     },
     "metadata": {
      "needs_background": "light"
     },
     "output_type": "display_data"
    }
   ],
   "source": [
    "#PLOTTING 5 EMG PURE DATA\n",
    "pure_EMG=np.load(os.path.join(data_path,'EMG_all_epochs.npy'))\n",
    "#print(pure_EMG.shape)\n",
    "for i in pure_EMG[0:5]:\n",
    "    plt.plot(range(len(i)),i)"
   ]
  },
  {
   "cell_type": "code",
   "execution_count": null,
   "metadata": {},
   "outputs": [
    {
     "name": "stdout",
     "output_type": "stream",
     "text": [
      "(3400, 512)\n"
     ]
    },
    {
     "data": {
      "image/png": "[encoded data removed]",
      "text/plain": [
       "<Figure size 432x288 with 1 Axes>"
      ]
     },
     "metadata": {
      "needs_background": "light"
     },
     "output_type": "display_data"
    }
   ],
   "source": [
    "#PLOTTING 5 EOG PURE DATA\n",
    "pure_EOG=np.load(os.path.join(data_path,'EOG_all_epochs.npy'))\n",
    "print(pure_EOG.shape)\n",
    "for i in pure_EOG[0:5]:\n",
    "    plt.plot(range(len(i)),i)"
   ]
  },
  {
   "cell_type": "code",
   "execution_count": null,
   "metadata": {},
   "outputs": [
    {
     "ename": "NameError",
     "evalue": "name 'pure_EEG' is not defined",
     "output_type": "error",
     "traceback": [
      "\u001b[1;31m---------------------------------------------------------------------------\u001b[0m",
      "\u001b[1;31mNameError\u001b[0m                                 Traceback (most recent call last)",
      "\u001b[1;32mc:\\Users\\user\\Desktop\\Thesis\\EEG_denoising.ipynb Cell 10\u001b[0m in \u001b[0;36m<cell line: 3>\u001b[1;34m()\u001b[0m\n\u001b[0;32m      <a href='vscode-notebook-cell:/c%3A/Users/user/Desktop/Thesis/EEG_denoising.ipynb#Y122sZmlsZQ%3D%3D?line=1'>2</a>\u001b[0m fig, axs \u001b[39m=\u001b[39m plt\u001b[39m.\u001b[39msubplots(\u001b[39m3\u001b[39m, \u001b[39m5\u001b[39m, figsize\u001b[39m=\u001b[39m(\u001b[39m15\u001b[39m, \u001b[39m10\u001b[39m))\n\u001b[0;32m      <a href='vscode-notebook-cell:/c%3A/Users/user/Desktop/Thesis/EEG_denoising.ipynb#Y122sZmlsZQ%3D%3D?line=2'>3</a>\u001b[0m \u001b[39mfor\u001b[39;00m i \u001b[39min\u001b[39;00m \u001b[39mrange\u001b[39m(\u001b[39m5\u001b[39m):\n\u001b[1;32m----> <a href='vscode-notebook-cell:/c%3A/Users/user/Desktop/Thesis/EEG_denoising.ipynb#Y122sZmlsZQ%3D%3D?line=3'>4</a>\u001b[0m     axs[\u001b[39m0\u001b[39m,i]\u001b[39m.\u001b[39mplot(\u001b[39mrange\u001b[39m(\u001b[39mlen\u001b[39m(pure_EEG[i])),pure_EEG[i])\n\u001b[0;32m      <a href='vscode-notebook-cell:/c%3A/Users/user/Desktop/Thesis/EEG_denoising.ipynb#Y122sZmlsZQ%3D%3D?line=4'>5</a>\u001b[0m     axs[\u001b[39m1\u001b[39m,i]\u001b[39m.\u001b[39mplot(\u001b[39mrange\u001b[39m(\u001b[39mlen\u001b[39m(pure_EMG[i])),pure_EMG[i])\n\u001b[0;32m      <a href='vscode-notebook-cell:/c%3A/Users/user/Desktop/Thesis/EEG_denoising.ipynb#Y122sZmlsZQ%3D%3D?line=5'>6</a>\u001b[0m     axs[\u001b[39m2\u001b[39m,i]\u001b[39m.\u001b[39mplot(\u001b[39mrange\u001b[39m(\u001b[39mlen\u001b[39m(pure_EOG[i])),pure_EOG[i])\n",
      "\u001b[1;31mNameError\u001b[0m: name 'pure_EEG' is not defined"
     ]
    },
    {
     "data": {
      "image/png": "[encoded data removed]",
      "text/plain": [
       "<Figure size 1080x720 with 15 Axes>"
      ]
     },
     "metadata": {
      "needs_background": "light"
     },
     "output_type": "display_data"
    }
   ],
   "source": [
    "#create three plots with 5 EEG, EMG and EOG pure data\n",
    "fig, axs = plt.subplots(3, 5, figsize=(15, 10))\n",
    "for i in range(5):\n",
    "    #add title to each plot\n",
    "    axs[0,i].set_title('EEG')\n",
    "    axs[0,i].plot(range(len(pure_EEG[i])),pure_EEG[i])\n",
    "\n",
    "    axs[1,i].set_title('EMG')\n",
    "    axs[1,i].plot(range(len(pure_EMG[i])),pure_EMG[i])\n",
    "\n",
    "    axs[2,i].set_title('EOG')\n",
    "    axs[2,i].plot(range(len(pure_EOG[i])),pure_EOG[i])\n",
    "plt.show()\n"
   ]
  },
  {
   "attachments": {},
   "cell_type": "markdown",
   "metadata": {},
   "source": [
    "<h2 style=\" font-size:150%; color:blue;\"> <b> 3. Data preparation </b> </h2>\n",
    "<div> In this section I will prepare the data to be used in the models.Specifically, we are going to create a dataset composed of:\n",
    "<ol>\n",
    "    <li> <b>EEG_raw_training_data</b>: 80% of the EEG signals </li>\n",
    "    <li> <b>EEG_clean_training_data</b>: 80% of the clean EEG signals </li>\n",
    "    <li> <b>EEG_raw_validation_data</b>: 10% of the EEG signals </li>\n",
    "    <li> <b>EEG_clean_validation_data</b>: 10% of the clean EEG signals </li>\n",
    "    <li> <b>EEG_raw_test_data</b>: 10% of the EEG signals </li>\n",
    "    <li> <b>EEG_clean_test_data</b>: 10% of the clean EEG signals </li>  \n",
    "</ol>\n",
    "</div>\n",
    "<div style=\"color:red\" > <b> Note:</b> </div> <div> The process includes code from the <a href=\"https://github.com/ncclabsustech/EEGdenoiseNet\">EEGdenoiseNet</a> repository. </div>\n"
   ]
  },
  {
   "cell_type": "code",
   "execution_count": null,
   "metadata": {},
   "outputs": [],
   "source": [
    "import sklearn.model_selection as ms\n",
    "import numpy as np\n",
    "import scipy.io as sio\n",
    "import math\n",
    "# Author: Haoming Zhang\n",
    "#The code here not only include data importing, but also data standardization and the generation of analog noise signals\n",
    "\n",
    "\n",
    "#PERFORMS THE STANDARD DEVIATION OF THE RECORDS\n",
    "def get_std(records):\n",
    "    return math.sqrt(sum([x ** 2 for x in records]) / len(records)) \n",
    "\n",
    "\n",
    "#AUGMENTS THE SIGNAL AND ADDS RANDOM DISTURB\n",
    "def random_signal(signal,combin_num):   #signal= EEG data (?), combin_num= number of times we want to shuffle data (factor of which)\n",
    "                                        #we want to augment our data\n",
    "    random_result=[]\n",
    "\n",
    "    for i in range(combin_num):\n",
    "        random_num = np.random.permutation(signal.shape[0])     #creates a random shuffled list of integers from 0 to signal.shape[0]\n",
    "        shuffled_dataset = signal[random_num,:]                #takes the elemnt of signal in the order we just shuffled\n",
    "        shuffled_dataset = shuffled_dataset.reshape(signal.shape[0],signal.shape[1]) #reshapes it to have the sam eshap eof the original signal\n",
    "        random_result.append(shuffled_dataset)                  #adds the shuffled signal to final result (we may want to repeat those steps to augment data)\n",
    "    random_result  = np.array(random_result)\n",
    "\n",
    "    return  random_result\n",
    "\n",
    "\n",
    "#OBTAINING RAW DATA (training, validation and test)\n",
    "def prepare_data(EEG_all, noise_all, combin_num, train_per, noise_type):    #EEG_all= original eeg data\n",
    "                                                                            #noise_all= original noise data\n",
    "                                                                            #combin_num= factor of which we wanto to augment data\n",
    "                                                                            #train_per=percentage of data that we want to use as training [0,1]\n",
    "                                                                            #noise_type= 'EMG' or 'EOG'\n",
    "\n",
    "    EEG_all_random = np.squeeze(random_signal(signal = EEG_all, combin_num = 1))        #shuffling pure eeg\n",
    "    noise_all_random = np.squeeze(random_signal(signal = noise_all, combin_num = 1))    #shuffling pure noise\n",
    "\n",
    "    #If the noise type is EMG, EEG signal will be partially reused to match 'EMG signal' shape\n",
    "    if noise_type == 'EMG':                  \n",
    "        reuse_num = noise_all_random.shape[0] - EEG_all_random.shape[0] #we find the differenece of dimensions between EEG and EMG, n\n",
    "        EEG_reuse = EEG_all_random[0 : reuse_num, :]                    #we select aportion of magnitude n from EEG\n",
    "        EEG_all_random = np.vstack([EEG_reuse, EEG_all_random])         #stack original EEG  with that extra portion \n",
    "        print('EEG segments after reuse: ',EEG_all_random.shape[0])\n",
    "\n",
    "    #If the noise type is EOG, EEG signal will be partially dropped to match 'EOG signal' shape\n",
    "    elif noise_type == 'EOG':  \n",
    "        EEG_all_random = EEG_all_random[0:noise_all_random.shape[0]]    #We drop some of the EEG signal to much the number of EMG\n",
    "        print('EEG segments after drop: ',EEG_all_random.shape[0])\n",
    "\n",
    "\n",
    "    #defining important data\n",
    "    timepoint = noise_all_random.shape[1]                               #get the number of timestamps\n",
    "    train_num = round(train_per * EEG_all_random.shape[0])              #the number of training points\n",
    "    validation_num = round((EEG_all_random.shape[0] - train_num) / 2)   #the number of validation points\n",
    "    test_num = EEG_all_random.shape[0] - train_num - validation_num     #the number of test points\n",
    "\n",
    "    #splitting EEG in train,validation,test\n",
    "    train_eeg = EEG_all_random[0 : train_num, :]\n",
    "    validation_eeg = EEG_all_random[train_num : train_num + validation_num, :]\n",
    "    test_eeg = EEG_all_random[train_num + validation_num : EEG_all_random.shape[0], :]\n",
    "\n",
    "    #splittting EEG in train,validation,test\n",
    "    train_noise = noise_all_random[0 : train_num, :]\n",
    "    validation_noise = noise_all_random[train_num : train_num + validation_num,:]\n",
    "    test_noise = noise_all_random[train_num + validation_num : noise_all_random.shape[0], :]\n",
    "\n",
    "    #Augmenting training data and adding noise, with a factor of combin_num\n",
    "    EEG_train = random_signal(signal = train_eeg, combin_num = combin_num).reshape(combin_num * train_eeg.shape[0], timepoint)\n",
    "    NOISE_train = random_signal(signal = train_noise, combin_num = combin_num).reshape(combin_num * train_noise.shape[0], timepoint)\n",
    "\n",
    "    #################################  simulate noise signal of training set  ##############################\n",
    "\n",
    "    #creating random number between -10dB ~ 2dB\n",
    "    SNR_train_dB = np.random.uniform(-7, 2, (EEG_train.shape[0]))   #samples randomly as many point as the ones in training set\n",
    "    print(SNR_train_dB.shape)                                       #from the uniform distribution from -7 to 2\n",
    "    SNR_train = 10 ** (0.1 * (SNR_train_dB))\n",
    "\n",
    "    #combining eeg and noise for training set \n",
    "    noiseEEG_train=[]\n",
    "    NOISE_train_adjust=[]\n",
    "    for i in range (EEG_train.shape[0]):\n",
    "        eeg=EEG_train[i].reshape(EEG_train.shape[1])        #for each sample reates a vector of EEG data\n",
    "        noise=NOISE_train[i].reshape(NOISE_train.shape[1])  #and a vector of noise data\n",
    "\n",
    "        coe=get_std(eeg)/(get_std(noise)*SNR_train[i])      #computes a mixing coefficient as the std of eeg divided by \n",
    "                                                            #the std of noise multiplied by the SNR (random noise?)\n",
    "        noise = noise*coe           #multiply the noise by the coefficient\n",
    "        neeg = noise+eeg            #add it to clean eeg to obtain raw data\n",
    "\n",
    "        NOISE_train_adjust.append(noise)\n",
    "        noiseEEG_train.append(neeg)\n",
    "\n",
    "    noiseEEG_train=np.array(noiseEEG_train)                 #create an array with raw train EEg\n",
    "    NOISE_train_adjust=np.array(NOISE_train_adjust)         #create an array with the noise we added to the pure eeg\n",
    "\n",
    "    #dividing each epoch of training data (both raw and clean) for standard deviation\n",
    "    EEG_train_end_standard = []\n",
    "    noiseEEG_train_end_standard = []\n",
    "\n",
    "    for i in range(noiseEEG_train.shape[0]):\n",
    "        eeg_train_all_std = EEG_train[i] / np.std(noiseEEG_train[i])\n",
    "        EEG_train_end_standard.append(eeg_train_all_std)\n",
    "\n",
    "        noiseeeg_train_end_standard = noiseEEG_train[i] / np.std(noiseEEG_train[i])\n",
    "        noiseEEG_train_end_standard.append(noiseeeg_train_end_standard)\n",
    "\n",
    "    noiseEEG_train_end_standard = np.array(noiseEEG_train_end_standard)\n",
    "    EEG_train_end_standard = np.array(EEG_train_end_standard)\n",
    "    print('training data prepared', noiseEEG_train_end_standard.shape, EEG_train_end_standard.shape )\n",
    "\n",
    "    #################################  simulate noise signal of validation  ##############################\n",
    "\n",
    "    SNR_val_dB = np.linspace(-7.0, 2.0, num=(10))\n",
    "    SNR_val = 10 ** (0.1 * (SNR_val_dB))\n",
    "\n",
    "    eeg_val = np.array(validation_eeg)\n",
    "    noise_val = np.array(validation_noise)\n",
    "    \n",
    "    # combin eeg and noise for test set \n",
    "    EEG_val = []\n",
    "    noise_EEG_val = []\n",
    "    for i in range(10):\n",
    "        \n",
    "        noise_eeg_val = []\n",
    "        for j in range(eeg_val.shape[0]):\n",
    "            eeg = eeg_val[j]\n",
    "            noise = noise_val[j]\n",
    "            \n",
    "            coe = get_std(eeg) / (get_std(noise) * SNR_val[i])\n",
    "            noise = noise * coe\n",
    "            neeg = noise + eeg\n",
    "            \n",
    "            noise_eeg_val.append(neeg)\n",
    "        \n",
    "        EEG_val.extend(eeg_val)\n",
    "        noise_EEG_val.extend(noise_eeg_val)\n",
    "\n",
    "\n",
    "    noise_EEG_val = np.array(noise_EEG_val)\n",
    "    EEG_val = np.array(EEG_val)\n",
    "\n",
    "\n",
    "    # std for noisy EEG\n",
    "    EEG_val_end_standard = []\n",
    "    noiseEEG_val_end_standard = []\n",
    "    # std_VALUE = []\n",
    "    for i in range(noise_EEG_val.shape[0]):\n",
    "        \n",
    "        # store std value to restore EEG signal\n",
    "        std_value = np.std(noise_EEG_val[i])\n",
    "        #std_VALUE.append(std_value)\n",
    "\n",
    "        # Each epochs of eeg and neeg was divide by the standard deviation\n",
    "        eeg_val_all_std = EEG_val[i] / std_value\n",
    "        EEG_val_end_standard.append(eeg_val_all_std)\n",
    "\n",
    "        noiseeeg_val_end_standard = noise_EEG_val[i] / std_value\n",
    "        noiseEEG_val_end_standard.append(noiseeeg_val_end_standard)\n",
    "\n",
    "    #std_VALUE = np.array(std_VALUE)\n",
    "    noiseEEG_val_end_standard = np.array(noiseEEG_val_end_standard)\n",
    "    EEG_val_end_standard = np.array(EEG_val_end_standard)\n",
    "    print('validation data prepared, validation data shape: ', noiseEEG_val_end_standard.shape, EEG_val_end_standard.shape)\n",
    "\n",
    "    #################################  simulate noise signal of test  ##############################\n",
    "\n",
    "    SNR_test_dB = np.linspace(-7.0, 2.0, num=(10))\n",
    "    SNR_test = 10 ** (0.1 * (SNR_test_dB))\n",
    "\n",
    "    eeg_test = np.array(test_eeg)\n",
    "    noise_test = np.array(test_noise)\n",
    "    \n",
    "    # combin eeg and noise for test set \n",
    "    EEG_test = []\n",
    "    noise_EEG_test = []\n",
    "    for i in range(10):\n",
    "        \n",
    "        noise_eeg_test = []\n",
    "        for j in range(eeg_test.shape[0]):\n",
    "            eeg = eeg_test[j]\n",
    "            noise = noise_test[j]\n",
    "            \n",
    "            coe = get_std(eeg) / (get_std(noise) * SNR_test[i])\n",
    "            noise = noise * coe\n",
    "            neeg = noise + eeg\n",
    "            \n",
    "            noise_eeg_test.append(neeg)\n",
    "        \n",
    "        EEG_test.extend(eeg_test)\n",
    "        noise_EEG_test.extend(noise_eeg_test)\n",
    "\n",
    "\n",
    "    noise_EEG_test = np.array(noise_EEG_test)\n",
    "    EEG_test = np.array(EEG_test)\n",
    "\n",
    "\n",
    "    # std for noisy EEG\n",
    "    EEG_test_end_standard = []\n",
    "    noiseEEG_test_end_standard = []\n",
    "    std_VALUE = []\n",
    "    for i in range(noise_EEG_test.shape[0]):\n",
    "        \n",
    "        # store std value to restore EEG signal\n",
    "        std_value = np.std(noise_EEG_test[i])\n",
    "        std_VALUE.append(std_value)\n",
    "\n",
    "        # Each epochs of eeg and neeg was divide by the standard deviation\n",
    "        eeg_test_all_std = EEG_test[i] / std_value\n",
    "        EEG_test_end_standard.append(eeg_test_all_std)\n",
    "\n",
    "        noiseeeg_test_end_standard = noise_EEG_test[i] / std_value\n",
    "        noiseEEG_test_end_standard.append(noiseeeg_test_end_standard)\n",
    "\n",
    "    std_VALUE = np.array(std_VALUE)\n",
    "    noiseEEG_test_end_standard = np.array(noiseEEG_test_end_standard)\n",
    "    EEG_test_end_standard = np.array(EEG_test_end_standard)\n",
    "    print('test data prepared, test data shape: ', noiseEEG_test_end_standard.shape, EEG_test_end_standard.shape)\n",
    "\n",
    "    return noiseEEG_train_end_standard, EEG_train_end_standard, noiseEEG_val_end_standard, EEG_val_end_standard, noiseEEG_test_end_standard, EEG_test_end_standard, std_VALUE"
   ]
  },
  {
   "attachments": {},
   "cell_type": "markdown",
   "metadata": {},
   "source": [
    "Let's effectively build the dataset:"
   ]
  },
  {
   "cell_type": "code",
   "execution_count": null,
   "metadata": {},
   "outputs": [
    {
     "name": "stdout",
     "output_type": "stream",
     "text": [
      "EEG segments after reuse:  5598\n",
      "(44780,)\n",
      "training data prepared (44780, 512) (44780, 512)\n",
      "validation data prepared, validation data shape:  (5600, 512) (5600, 512)\n",
      "test data prepared, test data shape:  (5600, 512) (5600, 512)\n",
      "EEG segments after drop:  3400\n",
      "(27200,)\n",
      "training data prepared (27200, 512) (27200, 512)\n",
      "validation data prepared, validation data shape:  (3400, 512) (3400, 512)\n",
      "test data prepared, test data shape:  (3400, 512) (3400, 512)\n",
      "the number of total (EMG and EOG noise added) training saples is 71980\n"
     ]
    }
   ],
   "source": [
    "#CREATING THE WHOLE TRAING VALIDATION AND TEST DATABASE\n",
    "#for each pure EEg we are going to select 100 pure EMG and 100 pure EOG and obtained resulting raw data\n",
    "#at the end we will have 4514*200 tuples o f(raw_eeg_train, clean_eeg_train, raw_eeg_val, clean_eeg_val, raw_eeg_test, clean_eeg_test)\n",
    "train_dataset=[[],[]]\n",
    "validation_dataset=[[],[]]\n",
    "test_dataset=[[],[]]\n",
    "\n",
    "train_dataset_EMG=[[],[]]\n",
    "validation_dataset_EMG=[[],[]]\n",
    "test_dataset_EMG=[[],[]]\n",
    "\n",
    "train_dataset_EOG=[[],[]]\n",
    "validation_dataset_EOG=[[],[]]\n",
    "test_dataset_EOG=[[],[]]\n",
    "\n",
    "#for element in pure_EEG:\n",
    "#combining the EEg with 100 random EMG\n",
    "#for i in np.random.randint(0,len(pure_EMG),100):\n",
    "noiseEEG_train, EEG_train, noiseEEG_val, EEG_val, noiseEEG_test, EEG_test, test_std_VALUE = prepare_data(EEG_all = pure_EEG, noise_all = pure_EMG, combin_num = 10, train_per = 0.8, noise_type = 'EMG')\n",
    "train_dataset_EMG[0]=noiseEEG_train\n",
    "train_dataset_EMG[1]=EEG_train\n",
    "validation_dataset_EMG[0]=noiseEEG_val\n",
    "validation_dataset_EMG[1]=EEG_val\n",
    "test_dataset_EMG[0]=noiseEEG_test\n",
    "test_dataset_EMG[1]=EEG_test\n",
    "\n",
    "#combining the EEG with 100 random EOG\n",
    "#for i in np.random(0,len(pure_EOG),100):\n",
    "noiseEEG_train, EEG_train, noiseEEG_val, EEG_val, noiseEEG_test, EEG_test, test_std_VALUE = prepare_data (EEG_all = pure_EEG, noise_all = pure_EOG, combin_num = 10, train_per = 0.8, noise_type = 'EOG')\n",
    "train_dataset_EOG[0]=noiseEEG_train\n",
    "train_dataset_EOG[1]=EEG_train\n",
    "validation_dataset_EOG[0]=noiseEEG_val\n",
    "validation_dataset_EOG[1]=EEG_val\n",
    "test_dataset_EOG[0]=noiseEEG_test\n",
    "test_dataset_EOG[1]=EEG_test\n",
    "\n",
    "#creating a mixed dataset\n",
    "train_dataset[0]=np.vstack((train_dataset_EMG[0],train_dataset_EOG[0]))\n",
    "train_dataset[1]=np.vstack((train_dataset_EMG[1],train_dataset_EOG[1]))\n",
    "validation_dataset[0]=np.vstack((validation_dataset_EMG[0],validation_dataset_EOG[0]))\n",
    "validation_dataset[1]=np.vstack((validation_dataset_EMG[1],validation_dataset_EOG[1]))\n",
    "test_dataset[0]=np.vstack((test_dataset_EMG[0],test_dataset_EOG[0]))\n",
    "test_dataset[1]=np.vstack((test_dataset_EMG[1],test_dataset_EOG[1]))\n",
    "\n",
    "\n",
    "print('the number of total (EMG and EOG noise added) training saples is',len(train_dataset[0]))"
   ]
  },
  {
   "cell_type": "code",
   "execution_count": null,
   "metadata": {},
   "outputs": [
    {
     "data": {
      "text/plain": [
       "<matplotlib.legend.Legend at 0x22889aa6a30>"
      ]
     },
     "execution_count": 9,
     "metadata": {},
     "output_type": "execute_result"
    },
    {
     "data": {
      "image/png": "[encoded data removed]",
      "text/plain": [
       "<Figure size 1026x306 with 1 Axes>"
      ]
     },
     "metadata": {
      "needs_background": "light"
     },
     "output_type": "display_data"
    }
   ],
   "source": [
    "#VISUALIZIND RAW AND PURE EEG DATA (1 example)\n",
    "fig, ax = plt.subplots()\n",
    "fig.set_size_inches(14.25, 4.25)\n",
    "ax.plot(range(len(train_dataset[0][0])),train_dataset[0][0],color='red',label='raw data')\n",
    "ax.plot(range(len(train_dataset[1][0])),train_dataset[1][0],color='blue',label='clean data')\n",
    "ax.legend()"
   ]
  },
  {
   "attachments": {},
   "cell_type": "markdown",
   "metadata": {},
   "source": [
    "<h2 style=\" font-size:150%; color:blue;\"> <b> 4. Math models </b> </h2>"
   ]
  },
  {
   "attachments": {},
   "cell_type": "markdown",
   "metadata": {},
   "source": [
    "<h2 style=\" font-size:130%; color:blue;\"> <b> 4.1 Fast Fourier Transform </b> </h2>\n",
    "<div> This section shows the results of the FFT applied on the EEG signals. </div>"
   ]
  },
  {
   "cell_type": "raw",
   "metadata": {},
   "source": [
    "#performing fast fourier transform on the raw EEG data\n",
    "dt=1/200                                #sampling rate\n",
    "t=range(len(train_dataset[0][0]))       #time\n",
    "n=len(t)                                #number of samples\n",
    "fft=np.fft.fft(train_dataset[0][0],n)   #fourier transform\n",
    "PSD=fft*np.conj(fft)/n                  #power spectrum\n",
    "freq=(1/(dt*n))*np.arange(n)            #frequency\n",
    "L=np.arange(1,np.floor(n/2),dtype='int')    #only plot the first half of the spectrum\n",
    "\n",
    "#PLOTTING THE POWER SPECTRUM\n",
    "fig, ax = plt.subplots()\n",
    "fig.set_size_inches(14.25, 4.25)\n",
    "ax.plot(freq[L],PSD[L],color='blue',label='power spectrum')\n",
    "ax.legend()\n",
    "\n",
    "\n"
   ]
  },
  {
   "cell_type": "raw",
   "metadata": {},
   "source": [
    "#CREATING A FILTER TO REMOVE THE NOISE\n",
    "indices= PSD>4          #creaes a boolean array with true values where PSD>4 (the vlue has been chosen from the max values in the power spectrum)\n",
    "PSDclean=PSD*indices    #removes the noise from the power spectrum\n",
    "fft=indices*fft         #removes the noise from the fourier transform\n",
    "ffilt=np.fft.ifft(fft)  #inverse fourier transform\n",
    "\n",
    "#PLOTTING:\n",
    "#1) THE RAW VS CLEAN EEG DATA\n",
    "#2) THE CLEAN VS FILTERED EEG DATA\n",
    "#3) THE POWER SPECTRUM OF THE RAW EEG DATA VS THE CLEAN EEG DATA\n",
    "fig, ax = plt.subplots(3,1)\n",
    "fig.subplots_adjust(hspace=0.5)\n",
    "fig.set_size_inches(15.25, 8.25)\n",
    "\n",
    "ax[0].set_xlim(0,100)\n",
    "ax[0].set_ylim(-4,4)\n",
    "ax[0].plot(t,train_dataset[0][0], color='red', label='raw data')\n",
    "ax[0].plot(t,train_dataset[1][0], color='green',label='clean data')\n",
    "ax[0].set_xlabel('Time')\n",
    "ax[0].set_ylabel('Amplitude')\n",
    "ax[0].legend(loc='upper right')\n",
    "\n",
    "ax[1].set_xlim(0,100)\n",
    "ax[1].set_ylim(-4,4)\n",
    "ax[1].plot(t,train_dataset[1][0], color='green',label='clean data')\n",
    "ax[1].plot(t,ffilt, color='blue', label='filtered data')\n",
    "ax[1].set_xlabel('Time')\n",
    "ax[1].set_ylabel('Amplitude')\n",
    "ax[1].legend()\n",
    "\n",
    "ax[2].plot(freq[L],PSD[L], color='red', label='raw data')\n",
    "ax[2].plot(freq[L],PSDclean[L], color='green',label='clean data')\n",
    "ax[2].set_xlabel('Frequency (Hz)')\n",
    "ax[2].set_ylabel('Power')\n",
    "ax[2].legend()"
   ]
  },
  {
   "attachments": {},
   "cell_type": "markdown",
   "metadata": {},
   "source": [
    "<h2 style=\" font-size:130%; color:blue;\"> <b> 4.2 Short time Fourier Transform </b> </h2>\n",
    "<div> This section shows the results of the STFT applied on the EEG signals. </div>\n",
    "we first define the signal as a function of time t. We then define the parameters of the STFT, including the length of each window window_length, the overlap between windows overlap, and the size of the FFT fft_size. We compute the STFT using the stft function from scipy.signal, which returns the complex-valued STFT coefficients as a function of frequency f and time t. We apply thresholding to the STFT coefficients using the np.where function, which sets coefficients below a certain threshold to zero. We then reconstruct the signal using the inverse STFT using the istft function from scipy.signal. Finally, we plot the original signal and the denoised signal using matplotlib.\n",
    "\n",
    "You can adjust the STFT parameters and the threshold value according to your requirements. Note that the stft function also takes additional arguments to control the windowing function, such as the parameter window to specify the type of window and the parameter nperseg to specify the length of each segment."
   ]
  },
  {
   "cell_type": "raw",
   "metadata": {},
   "source": [
    "import numpy as np\n",
    "import matplotlib.pyplot as plt\n",
    "from scipy import signal\n",
    "\n",
    "# Define the signal\n",
    "signal_=train_dataset[0][0]\n",
    "t=np.linspace(0, len(signal_), len(signal_))\n",
    "\n",
    "# Define the STFT parameters\n",
    "window_length = 64 # length of each window\n",
    "overlap = int(window_length/2) # overlap between windows\n",
    "fft_size = 128 # size of the FFT\n",
    "\n",
    "# Compute the STFT\n",
    "f, t_, Zxx = signal.stft(signal_, fs=1.0, window='hann', nperseg=window_length, noverlap=overlap, nfft=fft_size)\n",
    "\n",
    "# Apply thresholding to the STFT coefficients\n",
    "threshold = 0.5\n",
    "Zxx = np.where(np.abs(Zxx) > threshold * np.max(np.abs(Zxx)), Zxx, 0)\n",
    "\n",
    "# Reconstruct the signal using the inverse STFT\n",
    "_, signal_denoised = signal.istft(Zxx, fs=1.0, window='hann', nperseg=window_length, noverlap=overlap, nfft=fft_size)\n",
    "\n",
    "# Plot the results\n",
    "fig, (ax0, ax1) = plt.subplots(nrows=2, figsize=(6, 6))\n",
    "ax0.plot(t, signal_, label='Signal')\n",
    "ax0.legend()\n",
    "ax1.plot(t, signal_denoised, label='Denoised signal')\n",
    "ax1.legend()\n",
    "plt.show()\n",
    "\n",
    "#PLOTTING:\n",
    "#1) THE RAW VS CLEAN EEG DATA\n",
    "#2) THE CLEAN VS FILTERED EEG DATA\n",
    "fig, ax = plt.subplots(2,1)\n",
    "fig.subplots_adjust(hspace=0.5)\n",
    "fig.set_size_inches(15.25, 6.25)\n",
    "\n",
    "ax[0].set_xlim(0,100)\n",
    "ax[0].set_ylim(-4,4)\n",
    "ax[0].plot(t,train_dataset[1][0], color='green',label='clean data')\n",
    "ax[0].plot(t,train_dataset[0][0], color='red', label='raw data')\n",
    "ax[0].set_xlabel('Time')\n",
    "ax[0].set_ylabel('Amplitude')\n",
    "ax[0].legend(loc='upper right')\n",
    "\n",
    "ax[1].set_xlim(0,100)\n",
    "ax[1].set_ylim(-4,4)\n",
    "ax[1].plot(t,train_dataset[1][0], color='green',label='clean data')\n",
    "ax[1].plot(t,signal_denoised, color='blue', label='filtered data')\n",
    "ax[1].set_xlabel('Time')\n",
    "ax[1].set_ylabel('Amplitude')\n",
    "ax[1].legend(loc='upper right')\n",
    "\n",
    "\n"
   ]
  },
  {
   "attachments": {},
   "cell_type": "markdown",
   "metadata": {},
   "source": [
    "<h2 style=\" font-size:130%; color:blue;\"> <b> 4.3 Wavelet transform </b> </h2><div> This section shows the results of the WT applied on the EEG signals. </div>"
   ]
  },
  {
   "cell_type": "raw",
   "metadata": {},
   "source": [
    "wavelet = 'sym19' # choose a wavelet family\n",
    "level = 4 # choose a level of decomposition\n",
    "signal=train_dataset[0][0]\n",
    "coeffs = pywt.wavedec(signal, wavelet, level=level) # perform the decomposition\n",
    "\n",
    "threshold = 0.5 # choose threshold value\n",
    "\n",
    "# threshold the coefficients\n",
    "for i in range(1, len(coeffs)):\n",
    "    coeffs[i] = pywt.threshold(coeffs[i], threshold*max(coeffs[i]))\n",
    "\n",
    "# reconstruct the signal\n",
    "signal_denoised = pywt.waverec(coeffs, wavelet)\n",
    "\n",
    "#PLOTTING:\n",
    "#1) THE RAW VS CLEAN EEG DATA\n",
    "#2) THE CLEAN VS FILTERED EEG DATA\n",
    "\n",
    "fig, ax = plt.subplots(2,1)\n",
    "fig.subplots_adjust(hspace=0.5)\n",
    "fig.set_size_inches(15.25, 6.25)\n",
    "\n",
    "ax[0].set_xlim(0,100)\n",
    "ax[0].set_ylim(-4,4)\n",
    "ax[0].plot(t,train_dataset[1][0], color='green',label='clean data')\n",
    "ax[0].plot(t,train_dataset[0][0], color='red', label='raw data')\n",
    "\n",
    "ax[0].set_xlabel('Time')\n",
    "ax[0].set_ylabel('Amplitude')\n",
    "ax[0].legend(loc='upper right')\n",
    "\n",
    "ax[1].set_xlim(0,100)\n",
    "ax[1].set_ylim(-4,4)\n",
    "ax[1].plot(t,train_dataset[1][0], color='green',label='clean data')\n",
    "ax[1].plot(t,signal_denoised, color='blue', label='filtered data')\n",
    "ax[1].set_xlabel('Time')\n",
    "ax[1].set_ylabel('Amplitude')\n",
    "ax[1].legend(loc='upper right')\n"
   ]
  },
  {
   "attachments": {},
   "cell_type": "markdown",
   "metadata": {},
   "source": [
    "<h2 style=\" font-size:130%; color:blue;\"> <b> 4.4 Regression techniques for decomposition </b> </h2>\n",
    "<div> This section shows the results of the regression techniques applied on the EEG signals. </div>"
   ]
  },
  {
   "cell_type": "raw",
   "metadata": {},
   "source": [
    "#create basis functions\n",
    "print(t.shape)\n",
    "print(signal.shape)\n",
    "\n",
    "# Define the frequencies to use in the basis functions\n",
    "freq=10**8\n",
    "\n",
    "# Define the basis functions (using EOG signal)\n",
    "basis_funcs = np.zeros((len(t), 3))\n",
    "print(basis_funcs.shape)\n",
    "print(pure_EMG[0].shape)\n",
    "basis_funcs[:, 0] = pure_EMG[0]\n",
    "basis_funcs[:, 1] = pure_EOG[0]\n",
    "basis_funcs[:, 2] = pure_EEG[0]\n",
    "print(basis_funcs.shape)\n",
    "\n",
    "# Use least squares to find the coefficients for the basis functions\n",
    "coeffs, residuals, _, _ = lstsq(basis_funcs, signal)\n",
    "\n",
    "# Reconstruct the signal\n",
    "signal_denoised = np.dot(basis_funcs, coeffs)\n",
    "\n",
    "#PLOTTING:\n",
    "#1) THE RAW VS CLEAN EEG DATA\n",
    "#2) THE CLEAN VS FILTERED EEG DATA\n",
    "\n",
    "fig, ax = plt.subplots(2,1)\n",
    "fig.subplots_adjust(hspace=0.5)\n",
    "fig.set_size_inches(15.25, 6.25)\n",
    "\n",
    "ax[0].set_xlim(0,100)\n",
    "ax[0].set_ylim(-4,4)\n",
    "ax[0].plot(t,train_dataset[1][0], color='green',label='clean data')\n",
    "ax[0].plot(t,train_dataset[0][0], color='red', label='raw data')\n",
    "ax[0].set_xlabel('Time')\n",
    "ax[0].set_ylabel('Amplitude')\n",
    "ax[0].legend(loc='upper right')\n",
    "\n",
    "ax[1].set_xlim(0,100)\n",
    "ax[1].set_ylim(-4,4)\n",
    "ax[1].plot(t,train_dataset[1][0], color='green',label='clean data')\n",
    "ax[1].plot(t,signal_denoised, color='blue', label='filtered data')\n",
    "ax[1].set_xlabel('Time')\n",
    "ax[1].set_ylabel('Amplitude')\n",
    "ax[1].legend(loc='upper right')"
   ]
  },
  {
   "attachments": {},
   "cell_type": "markdown",
   "metadata": {},
   "source": [
    "<h2 style=\" font-size:150%; color:blue;\"> <b> 5. Neural Networks </b> </h2>"
   ]
  },
  {
   "cell_type": "markdown",
   "metadata": {},
   "source": [
    "<h2 style=\" font-size:150%; color:blue;\"> <b>Loss Function </b> </h2>"
   ]
  },
  {
   "cell_type": "code",
   "execution_count": null,
   "metadata": {},
   "outputs": [],
   "source": [
    "def denoise_loss_mse(denoise, clean):      \n",
    "  loss = tf.losses.mean_squared_error(denoise, clean)\n",
    "  return tf.reduce_mean(loss)\n",
    "\n",
    "def denoise_loss_rmse(denoise, clean):      #tmse\n",
    "  loss = tf.losses.mean_squared_error(denoise, clean)\n",
    "  #loss2 = tf.losses.mean_squared_error(noise, clean)\n",
    "  return tf.math.sqrt(tf.reduce_mean(loss))\n",
    "\n",
    "def denoise_loss_rrmset(denoise, clean):      #tmse\n",
    "  rmse1 = denoise_loss_rmse(denoise, clean)\n",
    "  rmse2 = denoise_loss_rmse(clean, tf.zeros(clean.shape[0], tf.float64))\n",
    "  #loss2 = tf.losses.mean_squared_error(noise, clean)\n",
    "  return rmse1/rmse2\n",
    "\n",
    "def denoise_loss_psnr(denoise, clean):      \n",
    "  loss = tf.image.psnr(denoise, clean, max_val=1.0)\n",
    "  #loss2 = tf.losses.mean_squared_error(noise, clean)\n",
    "  return tf.reduce_mean(loss)\n",
    "\n",
    "def denoise_loss_ssim(denoise, clean):      \n",
    "  loss = tf.image.ssim(denoise, clean, max_val=1.0)\n",
    "  #loss2 = tf.losses.mean_squared_error(noise, clean)\n",
    "  return tf.reduce_mean(loss)\n"
   ]
  },
  {
   "cell_type": "markdown",
   "metadata": {},
   "source": [
    "<h2 style=\" font-size:150%; color:blue;\"> <b> train and test </b> </h2>"
   ]
  },
  {
   "cell_type": "code",
   "execution_count": null,
   "metadata": {},
   "outputs": [],
   "source": [
    "# Author: Haoming Zhang\n",
    "# Here is the part of denoiseNet training process\n",
    "\n",
    "\n",
    "def train_step(model, noiseEEG_batch, EEG_batch, optimizer , denoise_network, batch_size, datanum):\n",
    "\n",
    "    #本次训练参数初始化  parameter initialization in one step\n",
    "\n",
    "    mse_grads = 0\n",
    "    m_loss = 0\n",
    "      \n",
    " \n",
    "    with tf.GradientTape() as loss_tape:\n",
    "    \n",
    "        M_loss =  0\n",
    "        for x in range(noiseEEG_batch.shape[0]):\n",
    "    \n",
    "            noiseeeg_batch,eeg_batch =  noiseEEG_batch[x] , EEG_batch[x]\n",
    "\n",
    "            if denoise_network == 'fcNN':\n",
    "                noiseeeg_batch = tf.reshape(noiseeeg_batch, [1,datanum])\n",
    "            else:\n",
    "                noiseeeg_batch = tf.reshape(noiseeeg_batch, [1,datanum,1])\n",
    "\n",
    "            eeg_batch=tf.reshape(eeg_batch, [1,datanum,1])\n",
    "            denoiseoutput = model(noiseeeg_batch)\n",
    "            denoiseoutput = tf.reshape(denoiseoutput, [1,datanum,1])                          \n",
    "\n",
    "            m_loss = denoise_loss_mse(denoiseoutput,eeg_batch)   \n",
    "            M_loss += m_loss\n",
    "\n",
    "    \n",
    "        M_loss = M_loss / float(noiseEEG_batch.shape[0]) \n",
    "        \n",
    "        # calculate gradient\n",
    "        mse_grads = loss_tape.gradient(M_loss, model.trainable_variables)\n",
    "        #bp\n",
    "        optimizer.apply_gradients(zip(mse_grads, model.trainable_variables))\n",
    "\n",
    "    return  M_loss,  mse_grads[0]  #每一条EEG的loss从此输出\n",
    "\n",
    "def test_step(model, noiseEEG_test, EEG_test):\n",
    "\n",
    "  denoiseoutput_test = model(noiseEEG_test)\n",
    "  loss = denoise_loss_mse(EEG_test, denoiseoutput_test)\n",
    "  #loss_rrmset = denoise_loss_rrmset(denoiseoutput_test, EEG_test)\n",
    "\n",
    "  return denoiseoutput_test, loss#, loss_rrmset\n",
    "\n",
    "\n",
    "def train(model, noiseEEG,EEG, noiseEEG_val, EEG_val, epochs, batch_size,optimizer, denoise_network, result_location, foldername, train_num):\n",
    "\n",
    "    # setup history variables and save history in a npy film\n",
    "    history = {}\n",
    "    history['grads'], history['loss']= {}, {}\n",
    "    train_mse_history, val_mse_history = [],[]\n",
    "    mse_grads_history = []\n",
    "    val_mse_min = 100.0      # any number bigger than 1\n",
    "\n",
    "    # save history to tensorboard\n",
    "    # current_time = datetime.datetime.now().strftime(\"%Y%m%d-%H%M%S\")\n",
    "    train_log_dir= os.path.join(result_location,foldername,train_num,'train')\n",
    "    val_log_dir = os.path.join(result_location,foldername,train_num,'test')\n",
    "    train_summary_writer = tf.summary.create_file_writer(train_log_dir)\n",
    "    val_summary_writer = tf.summary.create_file_writer(val_log_dir)\n",
    "\n",
    "    batch_num = math.ceil(noiseEEG.shape[0]/batch_size)\n",
    "    \n",
    "    datanum = noiseEEG.shape[1]\n",
    "    for epoch in range(epochs):\n",
    "        start = time.time()\n",
    "\n",
    "        # initialize  loss value for every epoch\n",
    "        mse_grads , train_mse = 0, 0\n",
    "\n",
    "        with tqdm(total=batch_num, position=0, leave=True) as pbar:\n",
    "    \n",
    "            for n_batch in range(batch_num):\n",
    "\n",
    "                #\n",
    "                if n_batch == batch_num:\n",
    "                    noiseEEG_batch,EEG_batch =  noiseEEG[batch_size*n_batch :] , EEG[batch_size*n_batch :]\n",
    "                else:\n",
    "                    noiseEEG_batch,EEG_batch =  noiseEEG[batch_size*n_batch : batch_size*(n_batch+1)] , EEG[batch_size*n_batch : batch_size*(n_batch+1)]\n",
    "\n",
    "                mse_loss_batch, mse_grads_batch = train_step(model, noiseEEG_batch,EEG_batch, optimizer, denoise_network, batch_size , datanum)\n",
    "\n",
    "                # convert variables to usable format\n",
    "                mse_grads_batch = tf.reduce_mean(tf.sqrt(tf.reduce_sum(tf.square(mse_grads_batch)))).numpy()\n",
    "                mse_loss_batch = tf.reduce_mean(mse_loss_batch).numpy()\n",
    "\n",
    "                # store history \n",
    "                train_mse += mse_loss_batch/float(batch_num)\n",
    "                mse_grads += mse_grads_batch/float(batch_num)\n",
    "\n",
    "                pbar.update()\n",
    "            pbar.close()\n",
    "\n",
    "        # store train history \n",
    "        mse_grads_history.append(mse_grads)\n",
    "        train_mse_history.append(train_mse)\n",
    "\n",
    "        with train_summary_writer.as_default():\n",
    "            tf.summary.scalar('loss', train_mse, step=epoch)\n",
    "\n",
    "\n",
    "        # calculate mse loss for validation set\n",
    "        #denoiseoutput, val_mse, loss_rrmset = test_step(model, noiseEEG_val, EEG_val)\n",
    "        denoiseoutput, val_mse = test_step(model, noiseEEG_val, EEG_val)\n",
    "\n",
    "        #store validation history\n",
    "        val_mse_history.append(val_mse) \n",
    "\n",
    "        with val_summary_writer.as_default():   # record validation loss to tensorboard\n",
    "            tf.summary.scalar('loss', val_mse, step=epoch)\n",
    "\n",
    "        if epoch>epochs*0.8 and float(val_mse) < val_mse_min:  # if epoch_number > 0.8*all_epoch_number begin to save the best model  ## for SCNN or CCNN in EMG we should save the first or second model. \n",
    "            print('yes,smaller ', float(val_mse) ,val_mse_min)\n",
    "            val_mse_min = float(val_mse)\n",
    "            saved_model = model\n",
    "\n",
    "            path = os.path.join(result_location, foldername, train_num, \"denoise_model\")\n",
    "            tf.keras.models.save_model(model, path)\n",
    "            print('Best model has been saved')\n",
    "\n",
    "        print ('Epoch #: {}/{}, Time taken: {} secs,\\n Grads: mse= {},\\n Losses: train_mse= {}, val_mse={}'\\\n",
    "                     .format(epoch+1,epochs,time.time()-start , mse_grads,  train_mse, val_mse))\n",
    "\n",
    "    saved_model=model      \n",
    "    #Generate after the final epoch\n",
    "    #clear_output(wait=True)\n",
    "\n",
    "    #save history to dict\n",
    "    history['grads']['mse'] = mse_grads_history\n",
    "    history['loss']['train_mse'], history['loss']['val_mse']  = train_mse_history, val_mse_history\n",
    "        \n",
    "    return saved_model, history   "
   ]
  },
  {
   "cell_type": "markdown",
   "metadata": {},
   "source": [
    "<h2 style=\" font-size:150%; color:blue;\"> <b> save the model </b> </h2>"
   ]
  },
  {
   "cell_type": "code",
   "execution_count": null,
   "metadata": {},
   "outputs": [],
   "source": [
    "def save_eeg(saved_model, result_location, foldername, save_train, save_vali, save_test, \n",
    "            noiseEEG_train, EEG_train, noiseEEG_val, EEG_val, noiseEEG_test, EEG_test, train_num):\n",
    "\n",
    "    if save_train == True:\n",
    "        # generate every signal in training set\n",
    "        Denoiseoutput_train, train_mse = test_step(saved_model, noiseEEG_train, EEG_train)    \n",
    "        path= os.path.join(result_location, foldername, train_num, \"nn_output\")\n",
    "        if not os.path.exists(path):\n",
    "            os.makedirs(path)\n",
    "        np.save(os.path.join(path, \"noiseinput_train.npy\"), noiseEEG_train)\n",
    "        np.save(os.path.join(path, \"Denoiseoutput_train.npy\"), Denoiseoutput_train)\n",
    "        np.save(os.path.join(path, \"EEG_train.npy\"), EEG_train)\n",
    "\n",
    "    if save_vali == True:\n",
    "        # generate every signal in test set\n",
    "        Denoiseoutput_val, val_mse = test_step(saved_model, noiseEEG_val, EEG_val)        \n",
    "        path= os.path.join(result_location, foldername, train_num, \"nn_output\")\n",
    "        if not os.path.exists(path):\n",
    "            os.makedirs(path) \n",
    "        np.save(os.path.join(path, \"noiseinput_val.npy\"), noiseEEG_val)\n",
    "        np.save(os.path.join(path, \"Denoiseoutput_val.npy\"), Denoiseoutput_val)\n",
    "        np.save(os.path.join(path, \"EEG_val.npy\"), EEG_val)\n",
    "\n",
    "        \n",
    "    if save_test == True:\n",
    "        # generate every signal in test set\n",
    "\n",
    "        Denoiseoutput_test, test_mse = test_step(saved_model, noiseEEG_test, EEG_test)\n",
    "        path= os.path.join(result_location, foldername, train_num, \"nn_output\")\n",
    "        if not os.path.exists(path):\n",
    "            os.makedirs(path)  \n",
    "        np.save(os.path.join(path, \"noiseinput_test.npy\"), noiseEEG_test)\n",
    "        np.save(os.path.join(path, \"Denoiseoutput_test.npy\"), Denoiseoutput_test)\n",
    "        np.save(os.path.join(path, \"EEG_test.npy\"), EEG_test)\n"
   ]
  },
  {
   "attachments": {},
   "cell_type": "markdown",
   "metadata": {},
   "source": [
    "<h2 style=\" font-size:130%; color:blue;\"> <b> Evaluation metrics </b> </h2>"
   ]
  },
  {
   "cell_type": "code",
   "execution_count": null,
   "metadata": {},
   "outputs": [],
   "source": [
    "#CALCULATE RRMSE, PSNR, SSIM\n",
    "def RMS(x):\n",
    "        len=np.shape(x)[1]\n",
    "        sum_=np.sum(x**2,axis=1)\n",
    "        return np.sqrt(sum_/len)\n",
    "def metrics_results(denoised, clear):\n",
    "    #calculate the RRMSE\n",
    "    max_clear=np.max(clear,axis=1)\n",
    "  \n",
    "   \n",
    "    RRMSE_values = RMS(clear-denoised)/RMS(denoised)\n",
    "    RRMSE=np.mean(RRMSE_values)\n",
    "\n",
    "    #calculate the CC\n",
    "    CC_values = np.zeros((denoised.shape[0],1))\n",
    "    for i in range(denoised.shape[0]):\n",
    "        CC_values[i] = np.corrcoef(np.array(denoised[i,:]),np.array(clear[i,:]))[0,1]\n",
    "    CC=np.mean(CC_values)\n",
    "\n",
    "    #calculate the PSNR\n",
    "    mse_values=np.mean((denoised- clear)**2, axis=1)\n",
    "    PSNR_values = 10 * np.log10(max_clear**2/mse_values)\n",
    "    PSNR=np.mean(PSNR_values)\n",
    "\n",
    "\n",
    "    from skimage.metrics import structural_similarity as ssim\n",
    "    #calculate the SSIM\n",
    "    SSIM_values = np.zeros((denoised.shape[0],1))\n",
    "    for i in range(denoised.shape[0]):\n",
    "        SSIM_values[i] = ssim(np.array(denoised[i,:]),np.array(clear[i,:]))\n",
    "    SSIM=np.mean(SSIM_values)\n",
    "    \n",
    "    return RRMSE, CC, PSNR, SSIM"
   ]
  },
  {
   "cell_type": "code",
   "execution_count": null,
   "metadata": {},
   "outputs": [],
   "source": [
    "result_location='./resuts'"
   ]
  },
  {
   "attachments": {},
   "cell_type": "markdown",
   "metadata": {},
   "source": [
    "<h2 style=\" font-size:130%; color:blue;\"> <b> 5.1 Fully connected Neural Network </b> </h2>\n",
    "<div> This section shows the results of the FCNN based architectures applied on the EEG signals. This code is taken from the official <a href=\"https://github.com/ncclabsustech/EEGdenoiseNet/blob/master/code/benchmark_networks/Network_structure.py\">EEGdenoiseNet</a> repository. The model is cmposed of <ul> <li> 3 dense layers with ReLU ctivation function </li> <li> 3 dropout layers with 0.3 probability </li></ul> </div>"
   ]
  },
  {
   "cell_type": "code",
   "execution_count": null,
   "metadata": {},
   "outputs": [],
   "source": [
    "def fcNN(datanum):\n",
    "  model = tf.keras.Sequential()\n",
    "  model.add(Input(shape=(datanum,)))\n",
    "  model.add(layers.Dense(datanum, activation=tf.nn.relu ))\n",
    "  model.add(layers.Dropout(0.3))\n",
    "\n",
    "\n",
    "  model.add(layers.Dense(datanum))\n",
    "  model.add(layers.ReLU())\n",
    "  model.add(layers.Dropout(0.3))\n",
    "\n",
    "  model.add(layers.Dense(datanum))\n",
    "  model.add(layers.ReLU())\n",
    "  model.add(layers.Dropout(0.3))\n",
    "\n",
    "  model.add(layers.Dense(datanum))\n",
    "  model.summary()\n",
    "  return model"
   ]
  },
  {
   "attachments": {},
   "cell_type": "markdown",
   "metadata": {},
   "source": [
    "<h3 style=\" font-size:130%;\"> <b> 5.1.1 FCNN on EMG</b> </h2>"
   ]
  },
  {
   "cell_type": "raw",
   "metadata": {},
   "source": [
    "#train the model\n",
    "\n",
    "#set the parameters\n",
    "i=1\n",
    "epochs = 60\n",
    "batch_size = 40\n",
    "optimizer = tf.keras.optimizers.Adam(learning_rate=0.0001)\n",
    "datanum=512\n",
    "denoise_network = 'fcNN'\n",
    "model=fcNN(datanum)\n",
    "model.compile(optimizer=optimizer, loss='mse', metrics=['mae', 'mse'])\n",
    "foldername = 'fcNN'\n",
    "\n",
    "#train the model\n",
    "saved_model, history = train(model, train_dataset_EMG[0], train_dataset_EMG[1], validation_dataset_EMG[0], validation_dataset_EMG[1], \n",
    "                      epochs, batch_size,optimizer, denoise_network, \n",
    "                      result_location, foldername , train_num = str(i))\n",
    "\n",
    "#save model\n",
    "path = os.path.join(result_location, foldername, str(i), \"nn_output\")\n",
    "print(path)\n",
    "\n",
    "tf.keras.models.save_model(saved_model, path)\n",
    "\n"
   ]
  },
  {
   "cell_type": "raw",
   "metadata": {},
   "source": [
    "from tensorflow import keras\n",
    "#import the model\n",
    "path= os.path.join(result_location, foldername, str(i), \"denoise_model_EMG\")\n",
    "saved_model = keras.models.load_model(path)\n",
    "\n",
    "#testing\n",
    "denoised_test, test_mse = test_step(saved_model, test_dataset_EMG[0], test_dataset_EMG[1])\n",
    "\n",
    "#calculate the metrics\n",
    "RRMSE,CC, PSNR, SSIM = metrics_results(denoised_test, test_dataset_EMG[1])\n",
    "print('RRMSE: ', RRMSE)\n",
    "print('CC',CC)\n",
    "print('PSNR: ', PSNR)\n",
    "print('SSIM: ', SSIM)\n",
    "\n",
    "#PLOT THE RESULTS\n",
    "#plot the first denoised signal vs the original signal vs clean signal\n",
    "plt.figure(figsize=(20,5))\n",
    "plt.xlim(0,200)\n",
    "plt.plot(denoised_test[0,:], label='denoised', color='blue')\n",
    "plt.plot(EEG_test[0,:], label='original',color='green')\n",
    "plt.plot(noiseEEG_test[0,:], label='noisy',color='red')\n",
    "plt.legend()\n",
    "plt.show()\n",
    "\n",
    "\n"
   ]
  },
  {
   "attachments": {},
   "cell_type": "markdown",
   "metadata": {},
   "source": [
    "<h3 style=\" font-size:130%;\"> <b> 5.1.2 FCNN on EOG</b> </h2>"
   ]
  },
  {
   "cell_type": "raw",
   "metadata": {},
   "source": [
    "#train the model\n",
    "\n",
    "#set the parameters\n",
    "i=1\n",
    "epochs = 60\n",
    "batch_size = 40\n",
    "optimizer = tf.keras.optimizers.Adam(learning_rate=0.0001)\n",
    "datanum=512\n",
    "denoise_network = 'fcNN'\n",
    "model=fcNN(datanum)\n",
    "model.compile(optimizer=optimizer, loss='mse', metrics=['mae', 'mse'])\n",
    "foldername = 'fcNN'\n",
    "\n",
    "\n",
    "#train the model\n",
    "saved_model, history = train(model, train_dataset_EOG[0], train_dataset_EOG[1], validation_dataset_EOG[0], validation_dataset_EOG[1], \n",
    "                      epochs, batch_size,optimizer, denoise_network, \n",
    "                      result_location, foldername , train_num = str(i))\n",
    "#save model\n",
    "path= os.path.join(result_location, foldername, str(i), \"denoise_model_EOG\")\n",
    "\n",
    "print(path)\n",
    "\n",
    "tf.keras.models.save_model(saved_model, path)\n"
   ]
  },
  {
   "cell_type": "raw",
   "metadata": {},
   "source": [
    "#import model \n",
    "from tensorflow import keras\n",
    "path= os.path.join(result_location, foldername, str(i), \"denoise_model_EOG\")\n",
    "saved_model = keras.models.load_model(path)\n",
    "\n",
    "#testing\n",
    "denoised_test, test_mse = test_step(saved_model, test_dataset_EOG[0], test_dataset_EOG[1])\n",
    "\n",
    "#calculate the metrics\n",
    "RRMSE,CC, PSNR, SSIM = metrics_results(denoised_test, test_dataset_EOG[1])\n",
    "print('RRMSE: ', RRMSE)\n",
    "print('CC',CC)\n",
    "print('PSNR: ', PSNR)\n",
    "print('SSIM: ', SSIM)\n",
    "\n",
    "#PLOT THE RESULTS\n",
    "#plot the first denoised signal vs the original signal vs clean signal\n",
    "plt.figure(figsize=(20,5))\n",
    "plt.xlim(0,200)\n",
    "plt.plot(denoised_test[0,:], label='denoised', color='blue')\n",
    "plt.plot(EEG_test[0,:], label='original',color='green')\n",
    "plt.plot(noiseEEG_test[0,:], label='noisy',color='red')\n",
    "plt.legend()\n",
    "plt.show()"
   ]
  },
  {
   "attachments": {},
   "cell_type": "markdown",
   "metadata": {},
   "source": [
    "<h2 style=\" font-size:150%; color:blue;\"> <b> 5.2 Convolutional Neural Network </b> </h2>\n",
    "<div> This section shows the results of the CNN based architectures applied on the EEG signals. This code is taken from the official <a href=\"https://github.com/ncclabsustech/EEGdenoiseNet/blob/master/code/benchmark_networks/Network_structure.py\">EEGdenoiseNet</a> repository. The model is cmposed of <ul> <li> 4 convolutional layers</li> <li> 4 batch normalization layers </li><li>4 dropout layers with 0.3 probability</li> <li>1 flatten layer </li> <li> 1 dense layers with ReLU ctivation function </li> </ul> </div>\n"
   ]
  },
  {
   "cell_type": "raw",
   "metadata": {},
   "source": [
    "def simple_CNN(datanum):\n",
    "  model = tf.keras.Sequential()\n",
    "\n",
    "  model.add(layers.Conv1D(64, 3, strides=1, padding='same',input_shape=[ datanum, 1]))\n",
    "  model.add(layers.BatchNormalization())\n",
    "  model.add(layers.ReLU())\n",
    "  model.add(layers.Dropout(0.3))\n",
    "\n",
    "  model.add(layers.Conv1D(64, 3, strides=1, padding='same'))\n",
    "  model.add(layers.BatchNormalization())\n",
    "  model.add(layers.ReLU())\n",
    "  model.add(layers.Dropout(0.3))\n",
    "\n",
    "  model.add(layers.Conv1D(64, 3, strides=1, padding='same'))\n",
    "  model.add(layers.BatchNormalization())\n",
    "  model.add(layers.ReLU())\n",
    "  model.add(layers.Dropout(0.3))\n",
    "\n",
    "  #num4\n",
    "  model.add(layers.Conv1D(64, 3, strides=1, padding='same'))\n",
    "  model.add(layers.BatchNormalization())\n",
    "  model.add(layers.ReLU())\n",
    "  model.add(layers.Dropout(0.3))\n",
    "\n",
    "  model.add(layers.Flatten())\n",
    "  model.add(layers.Dense(datanum))\n",
    "\n",
    "  model.build(input_shape=[ 1,datanum, 1] )\n",
    "  model.summary()\n",
    "\n",
    "  return model"
   ]
  },
  {
   "attachments": {},
   "cell_type": "markdown",
   "metadata": {},
   "source": [
    "<h3 style=\" font-size:130%;\"> <b> 5.2.1 CNN on EMG</b> </h2>"
   ]
  },
  {
   "cell_type": "raw",
   "metadata": {},
   "source": [
    "#train the model\n",
    "\n",
    "#set the parameters\n",
    "i=1\n",
    "epochs = 10\n",
    "batch_size = 40\n",
    "optimizer = tf.keras.optimizers.Adam(learning_rate=0.0001)\n",
    "datanum=512\n",
    "denoise_network = 'CNN'\n",
    "model=simple_CNN(datanum)\n",
    "foldername = 'CNN'\n",
    "\n",
    "saved_model, history = train(model, train_dataset_EMG[0], train_dataset_EMG[1], validation_dataset_EMG[0], validation_dataset_EMG[1], \n",
    "                      epochs, batch_size,optimizer, denoise_network, \n",
    "                      result_location, foldername , train_num = str(i))\n",
    "\n",
    "#save model\n",
    "path= os.path.join(result_location, foldername, str(i), \"denoise_model_EMG\")\n",
    "print(path)\n",
    "tf.keras.models.save_model(saved_model, path)\n",
    "\n"
   ]
  },
  {
   "cell_type": "raw",
   "metadata": {},
   "source": [
    "#import model \n",
    "from tensorflow import keras\n",
    "path= os.path.join(result_location, foldername, str(i), \"denoise_model_EMG\")\n",
    "saved_model = keras.models.load_model(path)\n",
    "\n",
    "#testing\n",
    "denoised_test, test_mse = test_step(saved_model, test_dataset_EMG[0], test_dataset_EMG[1])\n",
    "\n",
    "#calculate the metrics\n",
    "RRMSE,CC, PSNR, SSIM = metrics_results(denoised_test, test_dataset_EMG[1])\n",
    "print('RRMSE: ', RRMSE)\n",
    "print('CC',CC)\n",
    "print('PSNR: ', PSNR)\n",
    "print('SSIM: ', SSIM)\n",
    "\n",
    "#PLOT THE RESULTS\n",
    "#plot the first denoised signal vs the original signal vs clean signal\n",
    "plt.figure(figsize=(20,5))\n",
    "plt.xlim(0,200)\n",
    "plt.plot(denoised_test[0,:], label='denoised', color='blue')\n",
    "plt.plot(EEG_test[0,:], label='original',color='green')\n",
    "plt.plot(noiseEEG_test[0,:], label='noisy',color='red')\n",
    "plt.legend()\n",
    "plt.show()"
   ]
  },
  {
   "attachments": {},
   "cell_type": "markdown",
   "metadata": {},
   "source": [
    "<h3 style=\" font-size:130%;\"> <b> 5.2.2 CNN on EOG</b> </h2>"
   ]
  },
  {
   "cell_type": "raw",
   "metadata": {},
   "source": [
    "#train the model\n",
    "\n",
    "#set the parameters\n",
    "i=1\n",
    "epochs = 40\n",
    "batch_size = 40\n",
    "optimizer = tf.keras.optimizers.Adam(learning_rate=0.0001)\n",
    "datanum=512\n",
    "denoise_network = 'CNN'\n",
    "model=simple_CNN(datanum)\n",
    "foldername = 'CNN'\n",
    "\n",
    "saved_model, history = train(model, train_dataset_EOG[0], train_dataset_EOG[1], validation_dataset_EOG[0], validation_dataset_EOG[1], \n",
    "                      epochs, batch_size,optimizer, denoise_network, \n",
    "                      result_location, foldername , train_num = str(i))\n",
    "\n",
    "#save model\n",
    "path= os.path.join(result_location, foldername, str(i), \"denoise_model_EOG\")\n",
    "print(path)\n",
    "tf.keras.models.save_model(saved_model, path)"
   ]
  },
  {
   "cell_type": "raw",
   "metadata": {},
   "source": [
    "#import model \n",
    "from tensorflow import keras\n",
    "path= os.path.join(result_location, foldername, str(i), \"denoise_model_EOG\")\n",
    "saved_model = keras.models.load_model(path)\n",
    "\n",
    "#testing\n",
    "denoised_test, test_mse = test_step(saved_model, test_dataset_EOG[0], test_dataset_EOG[1])\n",
    "\n",
    "#calculate the metrics\n",
    "RRMSE,CC, PSNR, SSIM = metrics_results(denoised_test, test_dataset_EOG[1])\n",
    "print('RRMSE: ', RRMSE)\n",
    "print('CC',CC)\n",
    "print('PSNR: ', PSNR)\n",
    "print('SSIM: ', SSIM)\n",
    "\n",
    "#PLOT THE RESULTS\n",
    "#plot the first denoised signal vs the original signal vs clean signal\n",
    "plt.figure(figsize=(20,5))\n",
    "plt.xlim(0,200)\n",
    "plt.plot(denoised_test[0,:], label='denoised', color='blue')\n",
    "plt.plot(EEG_test[0,:], label='original',color='green')\n",
    "plt.plot(noiseEEG_test[0,:], label='noisy',color='red')\n",
    "plt.legend()\n",
    "plt.show()"
   ]
  },
  {
   "attachments": {},
   "cell_type": "markdown",
   "metadata": {},
   "source": [
    "<h2 style=\" font-size:150%; color:blue;\"> <b> 5.3 Recurrent Neural Network </b> </h2>\n",
    "<div> This section shows the results of the RNN based architectures applied on the EEG signals. This code is taken from the official <a href=\"https://github.com/ncclabsustech/EEGdenoiseNet/blob/master/code/benchmark_networks/Network_structure.py\">EEGdenoiseNet</a> repository. The model is cmposed of <ul> <li> 1 LSTM layer </li> <li> a flattening layer </li> <li> 2 dense layers with ReLU ctivation function </li> <li> 2 dropout layers with 0.3 probability </li>\n",
    " </ul> </div>"
   ]
  },
  {
   "cell_type": "code",
   "execution_count": null,
   "metadata": {},
   "outputs": [],
   "source": [
    "def RNN_lstm(datanum):\n",
    "  model = tf.keras.Sequential()\n",
    "  model.add(Input(shape=(datanum,1)))\n",
    "  model.add(layers.LSTM(1,return_sequences = True ))\n",
    "\n",
    "  model.add(layers.Flatten())\n",
    "\n",
    "  model.add(layers.Dense(datanum))\n",
    "  model.add(layers.ReLU())\n",
    "  model.add(layers.Dropout(0.3))\n",
    "\n",
    "  model.add(layers.Dense(datanum))\n",
    "  model.add(layers.ReLU())\n",
    "  model.add(layers.Dropout(0.3))\n",
    "\n",
    "  model.add(layers.Dense(datanum))\n",
    "  model.summary()\n",
    "  return model"
   ]
  },
  {
   "attachments": {},
   "cell_type": "markdown",
   "metadata": {},
   "source": [
    "<h3 style=\" font-size:130%;\"> <b> 5.3.1 LSTM on EMG</b> </h2>"
   ]
  },
  {
   "cell_type": "raw",
   "metadata": {},
   "source": [
    "#train the model\n",
    "#set the parameters\n",
    "i=1\n",
    "epochs = 60\n",
    "batch_size = 40\n",
    "optimizer = tf.keras.optimizers.Adam(learning_rate=0.0001)\n",
    "datanum=512\n",
    "denoise_network = 'LSTM'\n",
    "model=RNN_lstm(datanum)\n",
    "foldername = 'LSTM'\n",
    "\n",
    "saved_model, history = train(model, train_dataset_EMG[0], train_dataset_EMG[1], validation_dataset_EMG[0], validation_dataset_EMG[1], \n",
    "                      epochs, batch_size,optimizer, denoise_network, \n",
    "                      result_location, foldername , train_num = str(i))\n",
    "\n",
    "#save model\n",
    "path= os.path.join(result_location, foldername, str(i), \"denoise_model_EMG\")\n",
    "print(path)\n",
    "tf.keras.models.save_model(saved_model, path)\n"
   ]
  },
  {
   "cell_type": "raw",
   "metadata": {},
   "source": [
    "#import model \n",
    "from tensorflow import keras\n",
    "path= os.path.join(result_location, foldername, str(i), \"denoise_model_EMG\")\n",
    "saved_model = keras.models.load_model(path)\n",
    "\n",
    "#testing\n",
    "denoised_test, test_mse = test_step(saved_model, test_dataset_EMG[0], test_dataset_EMG[1])\n",
    "\n",
    "#calculate the metrics\n",
    "RRMSE,CC, PSNR, SSIM = metrics_results(denoised_test, test_dataset_EMG[1])\n",
    "print('RRMSE: ', RRMSE)\n",
    "print('CC',CC)\n",
    "print('PSNR: ', PSNR)\n",
    "print('SSIM: ', SSIM)\n",
    "\n",
    "#PLOT THE RESULTS\n",
    "#plot the first denoised signal vs the original signal vs clean signal\n",
    "plt.figure(figsize=(20,5))\n",
    "plt.xlim(0,200)\n",
    "plt.plot(denoised_test[0,:], label='denoised', color='blue')\n",
    "plt.plot(EEG_test[0,:], label='original',color='green')\n",
    "plt.plot(noiseEEG_test[0,:], label='noisy',color='red')\n",
    "plt.legend()\n",
    "plt.show()"
   ]
  },
  {
   "attachments": {},
   "cell_type": "markdown",
   "metadata": {},
   "source": [
    "<h3 style=\" font-size:130%;\"> <b> 5.3.2 LSTM on EOG</b> </h2>"
   ]
  },
  {
   "cell_type": "raw",
   "metadata": {},
   "source": [
    "#train the model\n",
    "\n",
    "#set the parameters\n",
    "i=1\n",
    "epochs = 100\n",
    "batch_size = 40\n",
    "optimizer = tf.keras.optimizers.Adam(learning_rate=0.0001)\n",
    "datanum=512\n",
    "denoise_network = 'LSTM'\n",
    "model=RNN_lstm(datanum)\n",
    "foldername = 'LSTM'\n",
    "\n",
    "saved_model, history = train(model, train_dataset_EOG[0], train_dataset_EOG[1], validation_dataset_EOG[0], validation_dataset_EOG[1], \n",
    "                      epochs, batch_size,optimizer, denoise_network, \n",
    "                      result_location, foldername , train_num = str(i))\n",
    "\n",
    "#save model\n",
    "path= os.path.join(result_location, foldername, str(i), \"denoise_model_EOG\")\n",
    "print(path)\n",
    "tf.keras.models.save_model(saved_model, path)"
   ]
  },
  {
   "cell_type": "raw",
   "metadata": {},
   "source": [
    "#import model \n",
    "from tensorflow import keras\n",
    "path= os.path.join(result_location, foldername, str(i), \"denoise_model_EOG\")\n",
    "saved_model = keras.models.load_model(path)\n",
    "\n",
    "#testing\n",
    "denoised_test, test_mse = test_step(saved_model, test_dataset_EOG[0], test_dataset_EOG[1])\n",
    "\n",
    "#calculate the metrics\n",
    "RRMSE,CC, PSNR, SSIM = metrics_results(denoised_test, test_dataset_EOG[1])\n",
    "print('RRMSE: ', RRMSE)\n",
    "print('CC',CC)\n",
    "print('PSNR: ', PSNR)\n",
    "print('SSIM: ', SSIM)\n",
    "\n",
    "#PLOT THE RESULTS\n",
    "#plot the first denoised signal vs the original signal vs clean signal\n",
    "plt.figure(figsize=(20,5))\n",
    "plt.xlim(0,200)\n",
    "plt.plot(denoised_test[0,:], label='denoised', color='blue')\n",
    "plt.plot(EEG_test[0,:], label='original',color='green')\n",
    "plt.plot(noiseEEG_test[0,:], label='noisy',color='red')\n",
    "plt.legend()\n",
    "plt.show()"
   ]
  },
  {
   "attachments": {},
   "cell_type": "markdown",
   "metadata": {},
   "source": [
    "<h2 style=\" text-align:center; font-size:180%; color:red;\"> <b> 6. PROPOSED MODEL</b> </h2>\n",
    "<div> This section shows the architecture of the proposed model, performs a training and a testing phase, and evaluates the results. </div>"
   ]
  },
  {
   "cell_type": "code",
   "execution_count": null,
   "metadata": {},
   "outputs": [
    {
     "ename": "ImportError",
     "evalue": "cannot import name 'type_spec_registry' from 'tensorflow.python.framework' (c:\\Users\\user\\anaconda3\\lib\\site-packages\\tensorflow\\python\\framework\\__init__.py)",
     "output_type": "error",
     "traceback": [
      "\u001b[1;31m---------------------------------------------------------------------------\u001b[0m",
      "\u001b[1;31mImportError\u001b[0m                               Traceback (most recent call last)",
      "\u001b[1;32mc:\\Users\\user\\Desktop\\Thesis\\EEG_denoising.ipynb Cell 60\u001b[0m in \u001b[0;36m<cell line: 5>\u001b[1;34m()\u001b[0m\n\u001b[0;32m      <a href='vscode-notebook-cell:/c%3A/Users/user/Desktop/Thesis/EEG_denoising.ipynb#Y113sZmlsZQ%3D%3D?line=2'>3</a>\u001b[0m \u001b[39mimport\u001b[39;00m \u001b[39mtensorflow\u001b[39;00m \u001b[39mas\u001b[39;00m \u001b[39mtf\u001b[39;00m\n\u001b[0;32m      <a href='vscode-notebook-cell:/c%3A/Users/user/Desktop/Thesis/EEG_denoising.ipynb#Y113sZmlsZQ%3D%3D?line=3'>4</a>\u001b[0m \u001b[39mfrom\u001b[39;00m \u001b[39mtensorflow\u001b[39;00m \u001b[39mimport\u001b[39;00m keras\n\u001b[1;32m----> <a href='vscode-notebook-cell:/c%3A/Users/user/Desktop/Thesis/EEG_denoising.ipynb#Y113sZmlsZQ%3D%3D?line=4'>5</a>\u001b[0m \u001b[39mfrom\u001b[39;00m \u001b[39mtensorflow\u001b[39;00m\u001b[39m.\u001b[39;00m\u001b[39mkeras\u001b[39;00m \u001b[39mimport\u001b[39;00m layers\n",
      "File \u001b[1;32mc:\\Users\\user\\anaconda3\\lib\\site-packages\\keras\\api\\_v2\\keras\\__init__.py:12\u001b[0m, in \u001b[0;36m<module>\u001b[1;34m\u001b[0m\n\u001b[0;32m      3\u001b[0m \u001b[39m\"\"\"Implementation of the Keras API, the high-level API of TensorFlow.\u001b[39;00m\n\u001b[0;32m      4\u001b[0m \n\u001b[0;32m      5\u001b[0m \u001b[39mDetailed documentation and user guides are available at\u001b[39;00m\n\u001b[0;32m      6\u001b[0m \u001b[39m[keras.io](https://keras.io).\u001b[39;00m\n\u001b[0;32m      7\u001b[0m \n\u001b[0;32m      8\u001b[0m \u001b[39m\"\"\"\u001b[39;00m\n\u001b[0;32m     10\u001b[0m \u001b[39mimport\u001b[39;00m \u001b[39msys\u001b[39;00m \u001b[39mas\u001b[39;00m \u001b[39m_sys\u001b[39;00m\n\u001b[1;32m---> 12\u001b[0m \u001b[39mfrom\u001b[39;00m \u001b[39mkeras\u001b[39;00m \u001b[39mimport\u001b[39;00m __version__\n\u001b[0;32m     13\u001b[0m \u001b[39mfrom\u001b[39;00m \u001b[39mkeras\u001b[39;00m\u001b[39m.\u001b[39;00m\u001b[39mapi\u001b[39;00m\u001b[39m.\u001b[39;00m\u001b[39m_v2\u001b[39;00m\u001b[39m.\u001b[39;00m\u001b[39mkeras\u001b[39;00m \u001b[39mimport\u001b[39;00m __internal__\n\u001b[0;32m     14\u001b[0m \u001b[39mfrom\u001b[39;00m \u001b[39mkeras\u001b[39;00m\u001b[39m.\u001b[39;00m\u001b[39mapi\u001b[39;00m\u001b[39m.\u001b[39;00m\u001b[39m_v2\u001b[39;00m\u001b[39m.\u001b[39;00m\u001b[39mkeras\u001b[39;00m \u001b[39mimport\u001b[39;00m activations\n",
      "File \u001b[1;32mc:\\Users\\user\\anaconda3\\lib\\site-packages\\keras\\__init__.py:21\u001b[0m, in \u001b[0;36m<module>\u001b[1;34m\u001b[0m\n\u001b[0;32m     15\u001b[0m \u001b[39m\"\"\"Implementation of the Keras API, the high-level API of TensorFlow.\u001b[39;00m\n\u001b[0;32m     16\u001b[0m \n\u001b[0;32m     17\u001b[0m \u001b[39mDetailed documentation and user guides are available at\u001b[39;00m\n\u001b[0;32m     18\u001b[0m \u001b[39m[keras.io](https://keras.io).\u001b[39;00m\n\u001b[0;32m     19\u001b[0m \u001b[39m\"\"\"\u001b[39;00m\n\u001b[0;32m     20\u001b[0m \u001b[39mfrom\u001b[39;00m \u001b[39mkeras\u001b[39;00m \u001b[39mimport\u001b[39;00m distribute\n\u001b[1;32m---> 21\u001b[0m \u001b[39mfrom\u001b[39;00m \u001b[39mkeras\u001b[39;00m \u001b[39mimport\u001b[39;00m models\n\u001b[0;32m     22\u001b[0m \u001b[39mfrom\u001b[39;00m \u001b[39mkeras\u001b[39;00m\u001b[39m.\u001b[39;00m\u001b[39mengine\u001b[39;00m\u001b[39m.\u001b[39;00m\u001b[39minput_layer\u001b[39;00m \u001b[39mimport\u001b[39;00m Input\n\u001b[0;32m     23\u001b[0m \u001b[39mfrom\u001b[39;00m \u001b[39mkeras\u001b[39;00m\u001b[39m.\u001b[39;00m\u001b[39mengine\u001b[39;00m\u001b[39m.\u001b[39;00m\u001b[39msequential\u001b[39;00m \u001b[39mimport\u001b[39;00m Sequential\n",
      "File \u001b[1;32mc:\\Users\\user\\anaconda3\\lib\\site-packages\\keras\\models\\__init__.py:18\u001b[0m, in \u001b[0;36m<module>\u001b[1;34m\u001b[0m\n\u001b[0;32m      1\u001b[0m \u001b[39m# Copyright 2022 The TensorFlow Authors. All Rights Reserved.\u001b[39;00m\n\u001b[0;32m      2\u001b[0m \u001b[39m#\u001b[39;00m\n\u001b[0;32m      3\u001b[0m \u001b[39m# Licensed under the Apache License, Version 2.0 (the \"License\");\u001b[39;00m\n\u001b[1;32m   (...)\u001b[0m\n\u001b[0;32m     13\u001b[0m \u001b[39m# limitations under the License.\u001b[39;00m\n\u001b[0;32m     14\u001b[0m \u001b[39m# ==============================================================================\u001b[39;00m\n\u001b[0;32m     15\u001b[0m \u001b[39m\"\"\"Keras models API.\"\"\"\u001b[39;00m\n\u001b[1;32m---> 18\u001b[0m \u001b[39mfrom\u001b[39;00m \u001b[39mkeras\u001b[39;00m\u001b[39m.\u001b[39;00m\u001b[39mengine\u001b[39;00m\u001b[39m.\u001b[39;00m\u001b[39mfunctional\u001b[39;00m \u001b[39mimport\u001b[39;00m Functional\n\u001b[0;32m     19\u001b[0m \u001b[39mfrom\u001b[39;00m \u001b[39mkeras\u001b[39;00m\u001b[39m.\u001b[39;00m\u001b[39mengine\u001b[39;00m\u001b[39m.\u001b[39;00m\u001b[39msequential\u001b[39;00m \u001b[39mimport\u001b[39;00m Sequential\n\u001b[0;32m     20\u001b[0m \u001b[39mfrom\u001b[39;00m \u001b[39mkeras\u001b[39;00m\u001b[39m.\u001b[39;00m\u001b[39mengine\u001b[39;00m\u001b[39m.\u001b[39;00m\u001b[39mtraining\u001b[39;00m \u001b[39mimport\u001b[39;00m Model\n",
      "File \u001b[1;32mc:\\Users\\user\\anaconda3\\lib\\site-packages\\keras\\engine\\functional.py:26\u001b[0m, in \u001b[0;36m<module>\u001b[1;34m\u001b[0m\n\u001b[0;32m     22\u001b[0m \u001b[39mimport\u001b[39;00m \u001b[39mwarnings\u001b[39;00m\n\u001b[0;32m     24\u001b[0m \u001b[39mimport\u001b[39;00m \u001b[39mtensorflow\u001b[39;00m\u001b[39m.\u001b[39;00m\u001b[39mcompat\u001b[39;00m\u001b[39m.\u001b[39;00m\u001b[39mv2\u001b[39;00m \u001b[39mas\u001b[39;00m \u001b[39mtf\u001b[39;00m\n\u001b[1;32m---> 26\u001b[0m \u001b[39mfrom\u001b[39;00m \u001b[39mkeras\u001b[39;00m \u001b[39mimport\u001b[39;00m backend\n\u001b[0;32m     27\u001b[0m \u001b[39mfrom\u001b[39;00m \u001b[39mkeras\u001b[39;00m\u001b[39m.\u001b[39;00m\u001b[39mdtensor\u001b[39;00m \u001b[39mimport\u001b[39;00m layout_map \u001b[39mas\u001b[39;00m layout_map_lib\n\u001b[0;32m     28\u001b[0m \u001b[39mfrom\u001b[39;00m \u001b[39mkeras\u001b[39;00m\u001b[39m.\u001b[39;00m\u001b[39mengine\u001b[39;00m \u001b[39mimport\u001b[39;00m base_layer\n",
      "File \u001b[1;32mc:\\Users\\user\\anaconda3\\lib\\site-packages\\keras\\backend.py:35\u001b[0m, in \u001b[0;36m<module>\u001b[1;34m\u001b[0m\n\u001b[0;32m     33\u001b[0m \u001b[39mfrom\u001b[39;00m \u001b[39mkeras\u001b[39;00m\u001b[39m.\u001b[39;00m\u001b[39mdistribute\u001b[39;00m \u001b[39mimport\u001b[39;00m distribute_coordinator_utils \u001b[39mas\u001b[39;00m dc\n\u001b[0;32m     34\u001b[0m \u001b[39mfrom\u001b[39;00m \u001b[39mkeras\u001b[39;00m\u001b[39m.\u001b[39;00m\u001b[39mdtensor\u001b[39;00m \u001b[39mimport\u001b[39;00m dtensor_api \u001b[39mas\u001b[39;00m dtensor\n\u001b[1;32m---> 35\u001b[0m \u001b[39mfrom\u001b[39;00m \u001b[39mkeras\u001b[39;00m\u001b[39m.\u001b[39;00m\u001b[39mengine\u001b[39;00m \u001b[39mimport\u001b[39;00m keras_tensor\n\u001b[0;32m     36\u001b[0m \u001b[39mfrom\u001b[39;00m \u001b[39mkeras\u001b[39;00m\u001b[39m.\u001b[39;00m\u001b[39mutils\u001b[39;00m \u001b[39mimport\u001b[39;00m control_flow_util\n\u001b[0;32m     37\u001b[0m \u001b[39mfrom\u001b[39;00m \u001b[39mkeras\u001b[39;00m\u001b[39m.\u001b[39;00m\u001b[39mutils\u001b[39;00m \u001b[39mimport\u001b[39;00m object_identity\n",
      "File \u001b[1;32mc:\\Users\\user\\anaconda3\\lib\\site-packages\\keras\\engine\\keras_tensor.py:19\u001b[0m, in \u001b[0;36m<module>\u001b[1;34m\u001b[0m\n\u001b[0;32m     15\u001b[0m \u001b[39m\"\"\"Keras Input Tensor used to track functional API Topology.\"\"\"\u001b[39;00m\n\u001b[0;32m     17\u001b[0m \u001b[39mimport\u001b[39;00m \u001b[39mtensorflow\u001b[39;00m\u001b[39m.\u001b[39;00m\u001b[39mcompat\u001b[39;00m\u001b[39m.\u001b[39;00m\u001b[39mv2\u001b[39;00m \u001b[39mas\u001b[39;00m \u001b[39mtf\u001b[39;00m\n\u001b[1;32m---> 19\u001b[0m \u001b[39mfrom\u001b[39;00m \u001b[39mkeras\u001b[39;00m\u001b[39m.\u001b[39;00m\u001b[39mutils\u001b[39;00m \u001b[39mimport\u001b[39;00m object_identity\n\u001b[0;32m     21\u001b[0m \u001b[39m# isort: off\u001b[39;00m\n\u001b[0;32m     22\u001b[0m \u001b[39mfrom\u001b[39;00m \u001b[39mtensorflow\u001b[39;00m\u001b[39m.\u001b[39;00m\u001b[39mpython\u001b[39;00m\u001b[39m.\u001b[39;00m\u001b[39mdata\u001b[39;00m\u001b[39m.\u001b[39;00m\u001b[39mutil\u001b[39;00m \u001b[39mimport\u001b[39;00m structure\n",
      "File \u001b[1;32mc:\\Users\\user\\anaconda3\\lib\\site-packages\\keras\\utils\\__init__.py:53\u001b[0m, in \u001b[0;36m<module>\u001b[1;34m\u001b[0m\n\u001b[0;32m     50\u001b[0m \u001b[39mfrom\u001b[39;00m \u001b[39mkeras\u001b[39;00m\u001b[39m.\u001b[39;00m\u001b[39mutils\u001b[39;00m\u001b[39m.\u001b[39;00m\u001b[39mdata_utils\u001b[39;00m \u001b[39mimport\u001b[39;00m get_file\n\u001b[0;32m     52\u001b[0m \u001b[39m# Preprocessing utils\u001b[39;00m\n\u001b[1;32m---> 53\u001b[0m \u001b[39mfrom\u001b[39;00m \u001b[39mkeras\u001b[39;00m\u001b[39m.\u001b[39;00m\u001b[39mutils\u001b[39;00m\u001b[39m.\u001b[39;00m\u001b[39mfeature_space\u001b[39;00m \u001b[39mimport\u001b[39;00m FeatureSpace\n\u001b[0;32m     55\u001b[0m \u001b[39m# Internal\u001b[39;00m\n\u001b[0;32m     56\u001b[0m \u001b[39mfrom\u001b[39;00m \u001b[39mkeras\u001b[39;00m\u001b[39m.\u001b[39;00m\u001b[39mutils\u001b[39;00m\u001b[39m.\u001b[39;00m\u001b[39mlayer_utils\u001b[39;00m \u001b[39mimport\u001b[39;00m get_source_inputs\n",
      "File \u001b[1;32mc:\\Users\\user\\anaconda3\\lib\\site-packages\\keras\\utils\\feature_space.py:20\u001b[0m, in \u001b[0;36m<module>\u001b[1;34m\u001b[0m\n\u001b[0;32m     17\u001b[0m \u001b[39mimport\u001b[39;00m \u001b[39mtensorflow\u001b[39;00m\u001b[39m.\u001b[39;00m\u001b[39mcompat\u001b[39;00m\u001b[39m.\u001b[39;00m\u001b[39mv2\u001b[39;00m \u001b[39mas\u001b[39;00m \u001b[39mtf\u001b[39;00m\n\u001b[0;32m     19\u001b[0m \u001b[39mfrom\u001b[39;00m \u001b[39mkeras\u001b[39;00m \u001b[39mimport\u001b[39;00m backend\n\u001b[1;32m---> 20\u001b[0m \u001b[39mfrom\u001b[39;00m \u001b[39mkeras\u001b[39;00m\u001b[39m.\u001b[39;00m\u001b[39mengine\u001b[39;00m \u001b[39mimport\u001b[39;00m base_layer\n\u001b[0;32m     21\u001b[0m \u001b[39mfrom\u001b[39;00m \u001b[39mkeras\u001b[39;00m\u001b[39m.\u001b[39;00m\u001b[39msaving\u001b[39;00m \u001b[39mimport\u001b[39;00m saving_lib\n\u001b[0;32m     22\u001b[0m \u001b[39mfrom\u001b[39;00m \u001b[39mkeras\u001b[39;00m\u001b[39m.\u001b[39;00m\u001b[39msaving\u001b[39;00m \u001b[39mimport\u001b[39;00m serialization_lib\n",
      "File \u001b[1;32mc:\\Users\\user\\anaconda3\\lib\\site-packages\\keras\\engine\\base_layer.py:39\u001b[0m, in \u001b[0;36m<module>\u001b[1;34m\u001b[0m\n\u001b[0;32m     37\u001b[0m \u001b[39mfrom\u001b[39;00m \u001b[39mkeras\u001b[39;00m\u001b[39m.\u001b[39;00m\u001b[39mengine\u001b[39;00m \u001b[39mimport\u001b[39;00m input_spec\n\u001b[0;32m     38\u001b[0m \u001b[39mfrom\u001b[39;00m \u001b[39mkeras\u001b[39;00m\u001b[39m.\u001b[39;00m\u001b[39mengine\u001b[39;00m \u001b[39mimport\u001b[39;00m keras_tensor\n\u001b[1;32m---> 39\u001b[0m \u001b[39mfrom\u001b[39;00m \u001b[39mkeras\u001b[39;00m\u001b[39m.\u001b[39;00m\u001b[39mengine\u001b[39;00m \u001b[39mimport\u001b[39;00m node \u001b[39mas\u001b[39;00m node_module\n\u001b[0;32m     40\u001b[0m \u001b[39mfrom\u001b[39;00m \u001b[39mkeras\u001b[39;00m\u001b[39m.\u001b[39;00m\u001b[39mmixed_precision\u001b[39;00m \u001b[39mimport\u001b[39;00m autocast_variable\n\u001b[0;32m     41\u001b[0m \u001b[39mfrom\u001b[39;00m \u001b[39mkeras\u001b[39;00m\u001b[39m.\u001b[39;00m\u001b[39mmixed_precision\u001b[39;00m \u001b[39mimport\u001b[39;00m loss_scale_optimizer\n",
      "File \u001b[1;32mc:\\Users\\user\\anaconda3\\lib\\site-packages\\keras\\engine\\node.py:28\u001b[0m, in \u001b[0;36m<module>\u001b[1;34m\u001b[0m\n\u001b[0;32m     26\u001b[0m \u001b[39mfrom\u001b[39;00m \u001b[39mkeras\u001b[39;00m \u001b[39mimport\u001b[39;00m backend\n\u001b[0;32m     27\u001b[0m \u001b[39mfrom\u001b[39;00m \u001b[39mkeras\u001b[39;00m\u001b[39m.\u001b[39;00m\u001b[39mengine\u001b[39;00m \u001b[39mimport\u001b[39;00m base_layer_utils\n\u001b[1;32m---> 28\u001b[0m \u001b[39mfrom\u001b[39;00m \u001b[39mkeras\u001b[39;00m\u001b[39m.\u001b[39;00m\u001b[39msaving\u001b[39;00m\u001b[39m.\u001b[39;00m\u001b[39mlegacy\u001b[39;00m\u001b[39m.\u001b[39;00m\u001b[39msaved_model\u001b[39;00m \u001b[39mimport\u001b[39;00m json_utils\n\u001b[0;32m     29\u001b[0m \u001b[39mfrom\u001b[39;00m \u001b[39mkeras\u001b[39;00m\u001b[39m.\u001b[39;00m\u001b[39mutils\u001b[39;00m \u001b[39mimport\u001b[39;00m tf_utils\n\u001b[0;32m     31\u001b[0m _CONSTANT_VALUE \u001b[39m=\u001b[39m \u001b[39m\"\u001b[39m\u001b[39m_CONSTANT_VALUE\u001b[39m\u001b[39m\"\u001b[39m\n",
      "File \u001b[1;32mc:\\Users\\user\\anaconda3\\lib\\site-packages\\keras\\saving\\legacy\\saved_model\\json_utils.py:36\u001b[0m, in \u001b[0;36m<module>\u001b[1;34m\u001b[0m\n\u001b[0;32m     33\u001b[0m \u001b[39mfrom\u001b[39;00m \u001b[39mkeras\u001b[39;00m\u001b[39m.\u001b[39;00m\u001b[39msaving\u001b[39;00m\u001b[39m.\u001b[39;00m\u001b[39mlegacy\u001b[39;00m \u001b[39mimport\u001b[39;00m serialization\n\u001b[0;32m     35\u001b[0m \u001b[39m# isort: off\u001b[39;00m\n\u001b[1;32m---> 36\u001b[0m \u001b[39mfrom\u001b[39;00m \u001b[39mtensorflow\u001b[39;00m\u001b[39m.\u001b[39;00m\u001b[39mpython\u001b[39;00m\u001b[39m.\u001b[39;00m\u001b[39mframework\u001b[39;00m \u001b[39mimport\u001b[39;00m type_spec_registry\n\u001b[0;32m     38\u001b[0m _EXTENSION_TYPE_SPEC \u001b[39m=\u001b[39m \u001b[39m\"\u001b[39m\u001b[39m_EXTENSION_TYPE_SPEC\u001b[39m\u001b[39m\"\u001b[39m\n\u001b[0;32m     41\u001b[0m \u001b[39mclass\u001b[39;00m \u001b[39mEncoder\u001b[39;00m(json\u001b[39m.\u001b[39mJSONEncoder):\n",
      "\u001b[1;31mImportError\u001b[0m: cannot import name 'type_spec_registry' from 'tensorflow.python.framework' (c:\\Users\\user\\anaconda3\\lib\\site-packages\\tensorflow\\python\\framework\\__init__.py)"
     ]
    }
   ],
   "source": [
    "#creating the transformer model\n",
    "\n",
    "import tensorflow as tf\n",
    "from tensorflow import keras\n",
    "from tensorflow.keras import layers\n",
    "\n"
   ]
  },
  {
   "cell_type": "code",
   "execution_count": null,
   "metadata": {},
   "outputs": [
    {
     "data": {
      "image/png": "[encoded data removed]",
      "text/plain": [
       "<Figure size 720x360 with 2 Axes>"
      ]
     },
     "metadata": {
      "needs_background": "light"
     },
     "output_type": "display_data"
    },
    {
     "data": {
      "image/png": "[encoded data removed]",
      "text/plain": [
       "<Figure size 720x360 with 2 Axes>"
      ]
     },
     "metadata": {
      "needs_background": "light"
     },
     "output_type": "display_data"
    }
   ],
   "source": [
    "from scipy import signal\n",
    "\n",
    "#CREATING THE SPECTOGRAM\n",
    "\n",
    "#general data\n",
    "duration_s, sampling_rate = 2.0, 256\n",
    "window_size = 50\n",
    "overlap = 10\n",
    "nfft = 256\n",
    "\n",
    "#create the spectogram of the signal\n",
    "def spectogram(signal, sampling_rate, window_size, overlap, nfft):\n",
    "    #signal: input signal\n",
    "    #sampling_rate: sampling rate of the signal\n",
    "    #window_size: size of the window\n",
    "    #overlap: overlap between windows\n",
    "    #nfft: number of points for the fft\n",
    "    #turn the signal to numpy array\n",
    "    signal=np.array(signal)\n",
    "    #perform the spectogram with fft\n",
    "    f, t, Sxx = sp.signal.spectrogram(signal, fs=sampling_rate, window='hann', nperseg=window_size, noverlap=overlap, nfft=nfft, detrend=False, return_onesided=True, scaling='density', axis=-1, mode='psd')\n",
    "    return f, t, Sxx\n",
    "\n",
    "\n",
    "def inverse_spectrogram(f: np.ndarray, t: np.ndarray, Sxx: np.ndarray, fs: int) -> np.ndarray:\n",
    "    \"\"\"inverse_spectrogram calculates the inverse spectrogram\n",
    "from frequencies f, intervals t, magnitude matrix Sxx using the sample rate fs.\n",
    "Returns signal as a np.array\n",
    "    \"\"\"\n",
    "    #you can not hear the phase they say\n",
    "    phases = [random.uniform(0,2*pi) for j in range(len(f))]\n",
    "    #that +1 is here for off by one rounding errors i dont care to chase\n",
    "    length= int(t[-1]*fs+1)\n",
    "    #time axis\n",
    "    out = np.zeros(length)\n",
    "    for i in range(1,len(t)):\n",
    "        duration = t[i] - t[i-1]\n",
    "        start =  t[i-1] * fs\n",
    "        tics = int(duration*fs)\n",
    "        for tic in range(tics):\n",
    "            index = int(start + tic)\n",
    "            #frequency axis\n",
    "            for j in range(len(f)):\n",
    "                magnitude = Sxx[j][i]\n",
    "                #everyone loves the sin, because it starts from the zero\n",
    "                out[index] += sin(2*pi/fs*f[j]*index+ phases[j]) * magnitude\n",
    "    return out\n",
    "f_noisy,t_noisy,Sxx_noisy=spectogram(train_dataset_EMG[0][0], 256, window_size, overlap, nfft)\n",
    "f_clean,t_clean,Sxx_clean=spectogram(train_dataset_EMG[1][0], 256, window_size, overlap, nfft)\n",
    "#PLOTTING NOISY SPECTOGRAM VS CLEAN SPECTOGRAM\n",
    "plt.figure(figsize=(10, 5))\n",
    "plt.subplot(1, 2, 1)\n",
    "plt.pcolormesh(t_noisy, f_noisy, Sxx_noisy)\n",
    "plt.ylabel('Frequency [Hz]')\n",
    "plt.xlabel('Time [sec]')\n",
    "plt.title('Noisy Spectogram')\n",
    "plt.subplot(1, 2, 2)\n",
    "plt.pcolormesh(t_clean, f_clean, Sxx_clean)\n",
    "plt.ylabel('Frequency [Hz]')\n",
    "plt.xlabel('Time [sec]')\n",
    "plt.title('Clean Spectogram')\n",
    "plt.show()\n",
    "\n",
    "#PLOT ORGINAL SIGNAL VS INVERSE SPECTOGRAM\n",
    "plt.figure(figsize=(10, 5))\n",
    "plt.subplot(1, 2, 1)\n",
    "#plot the original signal\n",
    "plt.plot(train_dataset_EMG[0][0], 'k')\n",
    "plt.ylabel('Amplitude')\n",
    "plt.xlabel('Time [sec]')\n",
    "plt.title('Original Signal')\n",
    "plt.xlim(0, 256)\n",
    "\n",
    "plt.subplot(1, 2, 2)\n",
    "#plot the inverse spectogram\n",
    "plt.plot(inverse_spectogram(Sxx_noisy, 256, window_size, overlap, nfft), 'k')\n",
    "plt.ylabel('Amplitude')\n",
    "plt.xlabel('Time [sec]')\n",
    "plt.title('Inverse Spectogram')\n",
    "plt.xlim(0, 256)\n",
    "plt.show()\n",
    "\n"
   ]
  },
  {
   "cell_type": "code",
   "execution_count": null,
   "metadata": {},
   "outputs": [
    {
     "ename": "ImportError",
     "evalue": "cannot import name 'context' from 'tensorflow.python.eager' (C:\\Users\\user\\AppData\\Roaming\\Python\\Python39\\site-packages\\tensorflow\\python\\eager\\__init__.py)",
     "output_type": "error",
     "traceback": [
      "\u001b[1;31m---------------------------------------------------------------------------\u001b[0m",
      "\u001b[1;31mImportError\u001b[0m                               Traceback (most recent call last)",
      "\u001b[1;32mc:\\Users\\user\\Desktop\\Thesis\\EEG_denoising.ipynb Cell 62\u001b[0m in \u001b[0;36m<cell line: 8>\u001b[1;34m()\u001b[0m\n\u001b[0;32m      <a href='vscode-notebook-cell:/c%3A/Users/user/Desktop/Thesis/EEG_denoising.ipynb#Y122sZmlsZQ%3D%3D?line=5'>6</a>\u001b[0m \u001b[39mfrom\u001b[39;00m \u001b[39mtorchaudio\u001b[39;00m\u001b[39m.\u001b[39;00m\u001b[39mtransforms\u001b[39;00m \u001b[39mimport\u001b[39;00m Spectrogram\n\u001b[0;32m      <a href='vscode-notebook-cell:/c%3A/Users/user/Desktop/Thesis/EEG_denoising.ipynb#Y122sZmlsZQ%3D%3D?line=6'>7</a>\u001b[0m \u001b[39mfrom\u001b[39;00m \u001b[39mtorchaudio\u001b[39;00m\u001b[39m.\u001b[39;00m\u001b[39mtransforms\u001b[39;00m \u001b[39mimport\u001b[39;00m InverseSpectrogram\n\u001b[1;32m----> <a href='vscode-notebook-cell:/c%3A/Users/user/Desktop/Thesis/EEG_denoising.ipynb#Y122sZmlsZQ%3D%3D?line=7'>8</a>\u001b[0m \u001b[39mimport\u001b[39;00m \u001b[39mtensorflow\u001b[39;00m \u001b[39mas\u001b[39;00m \u001b[39mtf\u001b[39;00m\n\u001b[0;32m     <a href='vscode-notebook-cell:/c%3A/Users/user/Desktop/Thesis/EEG_denoising.ipynb#Y122sZmlsZQ%3D%3D?line=9'>10</a>\u001b[0m \u001b[39m#CREATING THE SPECTOGRAM\u001b[39;00m\n\u001b[0;32m     <a href='vscode-notebook-cell:/c%3A/Users/user/Desktop/Thesis/EEG_denoising.ipynb#Y122sZmlsZQ%3D%3D?line=10'>11</a>\u001b[0m spectrogram_ \u001b[39m=\u001b[39m Spectrogram(n_fft\u001b[39m=\u001b[39m\u001b[39m256\u001b[39m, win_length\u001b[39m=\u001b[39m\u001b[39m50\u001b[39m, hop_length\u001b[39m=\u001b[39m\u001b[39m10\u001b[39m, pad\u001b[39m=\u001b[39m\u001b[39m0\u001b[39m, power\u001b[39m=\u001b[39m\u001b[39m2\u001b[39m, normalized\u001b[39m=\u001b[39m\u001b[39mFalse\u001b[39;00m)\n",
      "File \u001b[1;32mc:\\Users\\user\\anaconda3\\lib\\site-packages\\tensorflow\\__init__.py:37\u001b[0m, in \u001b[0;36m<module>\u001b[1;34m\u001b[0m\n\u001b[0;32m     34\u001b[0m \u001b[39mimport\u001b[39;00m \u001b[39msys\u001b[39;00m \u001b[39mas\u001b[39;00m \u001b[39m_sys\u001b[39;00m\n\u001b[0;32m     35\u001b[0m \u001b[39mimport\u001b[39;00m \u001b[39mtyping\u001b[39;00m \u001b[39mas\u001b[39;00m \u001b[39m_typing\u001b[39;00m\n\u001b[1;32m---> 37\u001b[0m \u001b[39mfrom\u001b[39;00m \u001b[39mtensorflow\u001b[39;00m\u001b[39m.\u001b[39;00m\u001b[39mpython\u001b[39;00m\u001b[39m.\u001b[39;00m\u001b[39mtools\u001b[39;00m \u001b[39mimport\u001b[39;00m module_util \u001b[39mas\u001b[39;00m _module_util\n\u001b[0;32m     38\u001b[0m \u001b[39mfrom\u001b[39;00m \u001b[39mtensorflow\u001b[39;00m\u001b[39m.\u001b[39;00m\u001b[39mpython\u001b[39;00m\u001b[39m.\u001b[39;00m\u001b[39mutil\u001b[39;00m\u001b[39m.\u001b[39;00m\u001b[39mlazy_loader\u001b[39;00m \u001b[39mimport\u001b[39;00m LazyLoader \u001b[39mas\u001b[39;00m _LazyLoader\n\u001b[0;32m     40\u001b[0m \u001b[39m# Make sure code inside the TensorFlow codebase can use tf2.enabled() at import.\u001b[39;00m\n",
      "File \u001b[1;32mc:\\Users\\user\\anaconda3\\lib\\site-packages\\tensorflow\\python\\__init__.py:37\u001b[0m, in \u001b[0;36m<module>\u001b[1;34m\u001b[0m\n\u001b[0;32m     29\u001b[0m \u001b[39m# We aim to keep this file minimal and ideally remove completely.\u001b[39;00m\n\u001b[0;32m     30\u001b[0m \u001b[39m# If you are adding a new file with @tf_export decorators,\u001b[39;00m\n\u001b[0;32m     31\u001b[0m \u001b[39m# import it in modules_with_exports.py instead.\u001b[39;00m\n\u001b[0;32m     32\u001b[0m \n\u001b[0;32m     33\u001b[0m \u001b[39m# go/tf-wildcard-import\u001b[39;00m\n\u001b[0;32m     34\u001b[0m \u001b[39m# pylint: disable=wildcard-import,g-bad-import-order,g-import-not-at-top\u001b[39;00m\n\u001b[0;32m     36\u001b[0m \u001b[39mfrom\u001b[39;00m \u001b[39mtensorflow\u001b[39;00m\u001b[39m.\u001b[39;00m\u001b[39mpython\u001b[39;00m \u001b[39mimport\u001b[39;00m pywrap_tensorflow \u001b[39mas\u001b[39;00m _pywrap_tensorflow\n\u001b[1;32m---> 37\u001b[0m \u001b[39mfrom\u001b[39;00m \u001b[39mtensorflow\u001b[39;00m\u001b[39m.\u001b[39;00m\u001b[39mpython\u001b[39;00m\u001b[39m.\u001b[39;00m\u001b[39meager\u001b[39;00m \u001b[39mimport\u001b[39;00m context\n\u001b[0;32m     39\u001b[0m \u001b[39m# pylint: enable=wildcard-import\u001b[39;00m\n\u001b[0;32m     40\u001b[0m \n\u001b[0;32m     41\u001b[0m \u001b[39m# Bring in subpackages.\u001b[39;00m\n\u001b[0;32m     42\u001b[0m \u001b[39mfrom\u001b[39;00m \u001b[39mtensorflow\u001b[39;00m\u001b[39m.\u001b[39;00m\u001b[39mpython\u001b[39;00m \u001b[39mimport\u001b[39;00m data\n",
      "\u001b[1;31mImportError\u001b[0m: cannot import name 'context' from 'tensorflow.python.eager' (C:\\Users\\user\\AppData\\Roaming\\Python\\Python39\\site-packages\\tensorflow\\python\\eager\\__init__.py)"
     ]
    }
   ],
   "source": [
    "\n"
   ]
  },
  {
   "cell_type": "code",
   "execution_count": null,
   "metadata": {},
   "outputs": [],
   "source": [
    "\n",
    "\n",
    "    \n",
    "    "
   ]
  },
  {
   "cell_type": "code",
   "execution_count": null,
   "metadata": {},
   "outputs": [
    {
     "ename": "NotImplementedError",
     "evalue": "Exception encountered when calling layer \"spectogram_layer_6\" (type SpectogramLayer).\n\nin user code:\n\n    File \"C:\\Users\\user\\AppData\\Local\\Temp\\ipykernel_15868\\1642207923.py\", line 7, in call  *\n        f, t, Sxx= spectogram(inputs, 256, window_size, overlap, nfft)\n    File \"C:\\Users\\user\\AppData\\Local\\Temp\\ipykernel_15868\\1540282799.py\", line 19, in spectogram  *\n        signal=np.array(signal)\n\n    NotImplementedError: Cannot convert a symbolic tf.Tensor (Placeholder:0) to a numpy array. This error may indicate that you're trying to pass a Tensor to a NumPy call, which is not supported.\n\n\nCall arguments received by layer \"spectogram_layer_6\" (type SpectogramLayer):\n  • inputs=tf.Tensor(shape=(None, 512), dtype=float32)",
     "output_type": "error",
     "traceback": [
      "\u001b[1;31m---------------------------------------------------------------------------\u001b[0m",
      "\u001b[1;31mNotImplementedError\u001b[0m                       Traceback (most recent call last)",
      "\u001b[1;32mc:\\Users\\user\\Desktop\\Thesis\\EEG_denoising.ipynb Cell 63\u001b[0m in \u001b[0;36m<cell line: 1>\u001b[1;34m()\u001b[0m\n\u001b[1;32m----> <a href='vscode-notebook-cell:/c%3A/Users/user/Desktop/Thesis/EEG_denoising.ipynb#Y120sZmlsZQ%3D%3D?line=0'>1</a>\u001b[0m model\u001b[39m=\u001b[39m transformer_fully_connected(EEG_train[\u001b[39m0\u001b[39;49m]\u001b[39m.\u001b[39;49mshape[\u001b[39m0\u001b[39;49m])\n\u001b[0;32m      <a href='vscode-notebook-cell:/c%3A/Users/user/Desktop/Thesis/EEG_denoising.ipynb#Y120sZmlsZQ%3D%3D?line=1'>2</a>\u001b[0m model\u001b[39m.\u001b[39msummary()\n\u001b[0;32m      <a href='vscode-notebook-cell:/c%3A/Users/user/Desktop/Thesis/EEG_denoising.ipynb#Y120sZmlsZQ%3D%3D?line=2'>3</a>\u001b[0m model\u001b[39m.\u001b[39mcompile(optimizer\u001b[39m=\u001b[39m\u001b[39m'\u001b[39m\u001b[39madam\u001b[39m\u001b[39m'\u001b[39m, loss\u001b[39m=\u001b[39m\u001b[39m'\u001b[39m\u001b[39mmse\u001b[39m\u001b[39m'\u001b[39m, metrics\u001b[39m=\u001b[39m[\u001b[39m'\u001b[39m\u001b[39mmse\u001b[39m\u001b[39m'\u001b[39m])\n",
      "\u001b[1;32mc:\\Users\\user\\Desktop\\Thesis\\EEG_denoising.ipynb Cell 63\u001b[0m in \u001b[0;36mtransformer_fully_connected\u001b[1;34m(datanum)\u001b[0m\n\u001b[0;32m     <a href='vscode-notebook-cell:/c%3A/Users/user/Desktop/Thesis/EEG_denoising.ipynb#Y120sZmlsZQ%3D%3D?line=45'>46</a>\u001b[0m model\u001b[39m.\u001b[39madd(layers\u001b[39m.\u001b[39mInput(shape\u001b[39m=\u001b[39m(datanum,)))\n\u001b[0;32m     <a href='vscode-notebook-cell:/c%3A/Users/user/Desktop/Thesis/EEG_denoising.ipynb#Y120sZmlsZQ%3D%3D?line=46'>47</a>\u001b[0m \u001b[39m#perform the spectogram\u001b[39;00m\n\u001b[1;32m---> <a href='vscode-notebook-cell:/c%3A/Users/user/Desktop/Thesis/EEG_denoising.ipynb#Y120sZmlsZQ%3D%3D?line=47'>48</a>\u001b[0m model\u001b[39m.\u001b[39;49madd(SpectogramLayer(input_shape\u001b[39m=\u001b[39;49m(datanum,)))\n\u001b[0;32m     <a href='vscode-notebook-cell:/c%3A/Users/user/Desktop/Thesis/EEG_denoising.ipynb#Y120sZmlsZQ%3D%3D?line=48'>49</a>\u001b[0m \u001b[39m#flatten the spectogram\u001b[39;00m\n\u001b[0;32m     <a href='vscode-notebook-cell:/c%3A/Users/user/Desktop/Thesis/EEG_denoising.ipynb#Y120sZmlsZQ%3D%3D?line=49'>50</a>\u001b[0m model\u001b[39m.\u001b[39madd(layers\u001b[39m.\u001b[39mFlatten())\n",
      "File \u001b[1;32mc:\\Users\\user\\anaconda3\\lib\\site-packages\\tensorflow\\python\\trackable\\base.py:205\u001b[0m, in \u001b[0;36mno_automatic_dependency_tracking.<locals>._method_wrapper\u001b[1;34m(self, *args, **kwargs)\u001b[0m\n\u001b[0;32m    203\u001b[0m \u001b[39mself\u001b[39m\u001b[39m.\u001b[39m_self_setattr_tracking \u001b[39m=\u001b[39m \u001b[39mFalse\u001b[39;00m  \u001b[39m# pylint: disable=protected-access\u001b[39;00m\n\u001b[0;32m    204\u001b[0m \u001b[39mtry\u001b[39;00m:\n\u001b[1;32m--> 205\u001b[0m   result \u001b[39m=\u001b[39m method(\u001b[39mself\u001b[39m, \u001b[39m*\u001b[39margs, \u001b[39m*\u001b[39m\u001b[39m*\u001b[39mkwargs)\n\u001b[0;32m    206\u001b[0m \u001b[39mfinally\u001b[39;00m:\n\u001b[0;32m    207\u001b[0m   \u001b[39mself\u001b[39m\u001b[39m.\u001b[39m_self_setattr_tracking \u001b[39m=\u001b[39m previous_value  \u001b[39m# pylint: disable=protected-access\u001b[39;00m\n",
      "File \u001b[1;32mc:\\Users\\user\\anaconda3\\lib\\site-packages\\keras\\utils\\traceback_utils.py:70\u001b[0m, in \u001b[0;36mfilter_traceback.<locals>.error_handler\u001b[1;34m(*args, **kwargs)\u001b[0m\n\u001b[0;32m     67\u001b[0m     filtered_tb \u001b[39m=\u001b[39m _process_traceback_frames(e\u001b[39m.\u001b[39m__traceback__)\n\u001b[0;32m     68\u001b[0m     \u001b[39m# To get the full stack trace, call:\u001b[39;00m\n\u001b[0;32m     69\u001b[0m     \u001b[39m# `tf.debugging.disable_traceback_filtering()`\u001b[39;00m\n\u001b[1;32m---> 70\u001b[0m     \u001b[39mraise\u001b[39;00m e\u001b[39m.\u001b[39mwith_traceback(filtered_tb) \u001b[39mfrom\u001b[39;00m \u001b[39mNone\u001b[39m\n\u001b[0;32m     71\u001b[0m \u001b[39mfinally\u001b[39;00m:\n\u001b[0;32m     72\u001b[0m     \u001b[39mdel\u001b[39;00m filtered_tb\n",
      "File \u001b[1;32m~\\AppData\\Local\\Temp\\__autograph_generated_file2chmww_k.py:10\u001b[0m, in \u001b[0;36mouter_factory.<locals>.inner_factory.<locals>.tf__call\u001b[1;34m(self, inputs)\u001b[0m\n\u001b[0;32m      8\u001b[0m do_return \u001b[39m=\u001b[39m \u001b[39mFalse\u001b[39;00m\n\u001b[0;32m      9\u001b[0m retval_ \u001b[39m=\u001b[39m ag__\u001b[39m.\u001b[39mUndefinedReturnValue()\n\u001b[1;32m---> 10\u001b[0m (f, t, Sxx) \u001b[39m=\u001b[39m ag__\u001b[39m.\u001b[39mconverted_call(ag__\u001b[39m.\u001b[39mld(spectogram), (ag__\u001b[39m.\u001b[39mld(inputs), \u001b[39m256\u001b[39m, ag__\u001b[39m.\u001b[39mld(window_size), ag__\u001b[39m.\u001b[39mld(overlap), ag__\u001b[39m.\u001b[39mld(nfft)), \u001b[39mNone\u001b[39;00m, fscope)\n\u001b[0;32m     11\u001b[0m Sxx \u001b[39m=\u001b[39m ag__\u001b[39m.\u001b[39mconverted_call(ag__\u001b[39m.\u001b[39mld(tf)\u001b[39m.\u001b[39mconvert_to_tensor, (ag__\u001b[39m.\u001b[39mld(Sxx),), \u001b[39mNone\u001b[39;00m, fscope)\n\u001b[0;32m     12\u001b[0m \u001b[39mtry\u001b[39;00m:\n",
      "File \u001b[1;32m~\\AppData\\Local\\Temp\\__autograph_generated_filepnzv7oap.py:10\u001b[0m, in \u001b[0;36mouter_factory.<locals>.inner_factory.<locals>.tf__spectogram\u001b[1;34m(signal, sampling_rate, window_size, overlap, nfft)\u001b[0m\n\u001b[0;32m      8\u001b[0m do_return \u001b[39m=\u001b[39m \u001b[39mFalse\u001b[39;00m\n\u001b[0;32m      9\u001b[0m retval_ \u001b[39m=\u001b[39m ag__\u001b[39m.\u001b[39mUndefinedReturnValue()\n\u001b[1;32m---> 10\u001b[0m signal \u001b[39m=\u001b[39m ag__\u001b[39m.\u001b[39mconverted_call(ag__\u001b[39m.\u001b[39mld(np)\u001b[39m.\u001b[39marray, (ag__\u001b[39m.\u001b[39mld(signal),), \u001b[39mNone\u001b[39;00m, fscope)\n\u001b[0;32m     11\u001b[0m (f, t, Sxx) \u001b[39m=\u001b[39m ag__\u001b[39m.\u001b[39mconverted_call(ag__\u001b[39m.\u001b[39mld(sp)\u001b[39m.\u001b[39msignal\u001b[39m.\u001b[39mspectrogram, (ag__\u001b[39m.\u001b[39mld(signal),), \u001b[39mdict\u001b[39m(fs\u001b[39m=\u001b[39mag__\u001b[39m.\u001b[39mld(sampling_rate), window\u001b[39m=\u001b[39m\u001b[39m'\u001b[39m\u001b[39mhann\u001b[39m\u001b[39m'\u001b[39m, nperseg\u001b[39m=\u001b[39mag__\u001b[39m.\u001b[39mld(window_size), noverlap\u001b[39m=\u001b[39mag__\u001b[39m.\u001b[39mld(overlap), nfft\u001b[39m=\u001b[39mag__\u001b[39m.\u001b[39mld(nfft), detrend\u001b[39m=\u001b[39m\u001b[39mFalse\u001b[39;00m, return_onesided\u001b[39m=\u001b[39m\u001b[39mTrue\u001b[39;00m, mode\u001b[39m=\u001b[39m\u001b[39m'\u001b[39m\u001b[39mmagnitude\u001b[39m\u001b[39m'\u001b[39m), fscope)\n\u001b[0;32m     12\u001b[0m Sxx \u001b[39m=\u001b[39m ag__\u001b[39m.\u001b[39mconverted_call(ag__\u001b[39m.\u001b[39mld(tf)\u001b[39m.\u001b[39mconvert_to_tensor, (ag__\u001b[39m.\u001b[39mld(Sxx),), \u001b[39mNone\u001b[39;00m, fscope)\n",
      "\u001b[1;31mNotImplementedError\u001b[0m: Exception encountered when calling layer \"spectogram_layer_6\" (type SpectogramLayer).\n\nin user code:\n\n    File \"C:\\Users\\user\\AppData\\Local\\Temp\\ipykernel_15868\\1642207923.py\", line 7, in call  *\n        f, t, Sxx= spectogram(inputs, 256, window_size, overlap, nfft)\n    File \"C:\\Users\\user\\AppData\\Local\\Temp\\ipykernel_15868\\1540282799.py\", line 19, in spectogram  *\n        signal=np.array(signal)\n\n    NotImplementedError: Cannot convert a symbolic tf.Tensor (Placeholder:0) to a numpy array. This error may indicate that you're trying to pass a Tensor to a NumPy call, which is not supported.\n\n\nCall arguments received by layer \"spectogram_layer_6\" (type SpectogramLayer):\n  • inputs=tf.Tensor(shape=(None, 512), dtype=float32)"
     ]
    }
   ],
   "source": []
  },
  {
   "cell_type": "code",
   "execution_count": null,
   "metadata": {},
   "outputs": [],
   "source": [
    "\n",
    "   "
   ]
  }
 ],
 "metadata": {
  "kernelspec": {
   "display_name": "base",
   "language": "python",
   "name": "python3"
  },
  "language_info": {
   "codemirror_mode": {
    "name": "ipython",
    "version": 3
   },
   "file_extension": ".py",
   "mimetype": "text/x-python",
   "name": "python",
   "nbconvert_exporter": "python",
   "pygments_lexer": "ipython3",
   "version": "3.9.12"
  },
  "orig_nbformat": 4,
  "vscode": {
   "interpreter": {
    "hash": "a077222d77dfe082b8f1dd562ad70e458ac2ab76993a0b248ab0476e32e9e8dd"
   }
  }
 },
 "nbformat": 4,
 "nbformat_minor": 2
}
