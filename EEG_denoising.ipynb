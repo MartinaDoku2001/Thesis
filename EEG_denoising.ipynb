{
 "cells": [
  {
   "attachments": {},
   "cell_type": "markdown",
   "metadata": {},
   "source": [
    "<h1 style=\"text-align:center; font-size:180%; color:red;\"> <b> MACHINE LEARNING TECHNIQUES FOR EEG DENOISING </b> </h1>\n",
    "<div id=\"author\"; style=\"text-align:center; font-size:150%;\" > <b> Martina Doku </b> </div>\n",
    "<div id=\"project\"; style=\"text-align:center; font-size:100%;\" > <b>  Bachelor Thesis in Applied Computer Science And Artificial Intelligence </b> </div>\n",
    "<div id=\"year\"; style=\"text-align:center; font-size:100%;\" > <b>  2023 </b> </div>\n",
    "<div id=\"university\"; style=\"text-align:center; font-size:100%;\" > <b>  University of Rome \"La Sapienza\"</b> </div>\n",
    "<div id=\"supervisor\"; style=\"text-align:center; font-size:100%;\" > <b>  Prof. Danilo Avola </b> </div>\n",
    "\n"
   ]
  },
  {
   "attachments": {},
   "cell_type": "markdown",
   "metadata": {},
   "source": [
    "<h2 style=\" font-size:150%; color:blue;\"> <b> 1. Introduction </b> </h2>\n",
    "<div id=\"abstract\"> This notebook shows some Neural Network architectures for EEG artfact removal applied on the EEGdenoiseNet dataset</div>"
   ]
  },
  {
   "attachments": {},
   "cell_type": "markdown",
   "metadata": {},
   "source": [
    "<h2 style=\" font-size:150%; color:blue;\"> <b> 2. Dataset </b> </h2>\n",
    "<div> First of all, let's introduce the dataset I am using, that is the EEGdenoiseNET, a dataset that contains pure EEG, EOG and EMG data. \n",
    "The dataset contains <b>4514 clean EEG segments</b> as ground truth, and <b>3400 pure electrooculography (EOG) segments</b> and <b>5598 pure electromyography (EMG) segments</b> as ocular artifacts and myogenic artifacts respectively. </div>\n",
    "\n",
    "<h3 style=\" font-size:100%; color:blue;\"> <b> 2.1. Processing </b> </h3>\n",
    "<div> The data was band-pass filtered between 1 and 80 Hz, notched at powerline frequency, and then re-sampled to 256 Hz. To obtain the clean EEG as ground truth, the 64-channel EEG signals were processed by ICLabel, a toolbox to remove EEG artifacts with independent component composition (ICA). For EOG and EMG the data preprocessing includes filtering, ICA-based artifacts removal, resampling, standardization, and visual checked by an expert. </div>\n",
    "\n",
    "\n",
    "<h3 style=\" font-size:100%; color:blue;\"> <b> 2.2. Data structure </b> </h3>\n",
    "<div> The dataset is composed by 3 folders: </div>\n",
    "<ul>\n",
    "    <li> <b>EEG</b>: contains the clean EEG signals </li>\n",
    "    <li> <b>EOG</b>: contains the EOG signals </li>\n",
    "    <li> <b>EMG</b>: contains the EMG signals </li>\n",
    "</ul>\n",
    "<div> Each folder contains 4514 files, each one containing a 1D array of 25600 values. </div>\n",
    "\n",
    "<h3 style=\" font-size:100%; color:blue;\"> <b> 2.3. Data use </b> </h3>\n",
    "<div>\n",
    "This dataset was created as a benchmark for Deep Larning models, and it will be used in this project to:\n",
    "<ol>\n",
    "    <li> create samples of raw data </li>\n",
    "    <li> perform denoising with different architectures </li>\n",
    "    <li> test and validate our architectures </li>\n",
    "</ol>\n",
    "</div>\n"
   ]
  }
 ],
 "metadata": {
  "kernelspec": {
   "display_name": "base",
   "language": "python",
   "name": "python3"
  },
  "language_info": {
   "codemirror_mode": {
    "name": "ipython",
    "version": 3
   },
   "file_extension": ".py",
   "mimetype": "text/x-python",
   "name": "python",
   "nbconvert_exporter": "python",
   "pygments_lexer": "ipython3",
   "version": "3.9.12"
  },
  "orig_nbformat": 4
 },
 "nbformat": 4,
 "nbformat_minor": 2
}
